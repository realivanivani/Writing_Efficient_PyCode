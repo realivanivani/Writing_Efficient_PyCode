{
 "cells": [
  {
   "cell_type": "markdown",
   "id": "aa1b35ae-317b-400b-93e0-2ea96d7ce8cc",
   "metadata": {},
   "source": [
    "## Chapter 1: Foundations for Efficiencies\n",
    "\n",
    "As a data scientist, the majority of your time should be spent gleaning actionable insights from data. Whether you're cleaning and curating a messy dataset, deploying a machine learning model, or creating a sleek data visualization, the code you write should be a helpful tool to quickly get you where you need to go - not something that leaves you waiting around. In this course, you'll learn how to write cleaner, faster, and more efficient Python code. We'll explore how to time and profile your code in order to find potential bottlenecks. Then, you'll practice eliminating these bottlenecks, and other bad design patterns, using Python's Standard Library, NumPy, and pandas. After completing this course, you'll have everything you need to start writing elegant and efficient Python code! But first, let's explore what is meant by efficient Python code.\n",
    "\n",
    "In this chapter we will explore following concepts:\n",
    "\n",
    "    1.1 What is Efficient Code?\n",
    "Efficiency in Python code for data scientists revolves around writing code that is not only fast but also follows Pythonic principles. We'll explore the concept of efficiency in data science and how it aligns with Pythonic practices.\n",
    "\n",
    "    1.2 Building with Built-ins\n",
    "Python's Standard Library offers a treasure trove of built-in functions and modules. Leveraging these can significantly enhance code efficiency. We'll delve into examples of how to use built-ins to streamline your code.\n",
    "\n",
    "    1.3 The Power of NumPy Arrays\n",
    "NumPy, a fundamental library for scientific computing, provides powerful array operations. We'll explore how using NumPy arrays can optimize numerical operations and enhance the overall performance of your code."
   ]
  },
  {
   "cell_type": "markdown",
   "id": "21abe30a-5a39-433f-af23-f033c445dbaa",
   "metadata": {},
   "source": [
    "### 1.1 Zen of Python\n",
    "\n",
    "PEP 20, also known as \"The Zen of Python,\" is a collection of guiding principles for writing computer programs in the Python language. Created by Tim Peters, PEP 20 aims to capture the design philosophy of Python and provide developers with a set of guiding principles to follow. These principles are meant to emphasize the importance of code readability, simplicity, and explicitness."
   ]
  },
  {
   "cell_type": "code",
   "execution_count": 5,
   "id": "0c936dc6-778b-4c07-b262-ba6c0f5a5336",
   "metadata": {
    "tags": []
   },
   "outputs": [
    {
     "name": "stdout",
     "output_type": "stream",
     "text": [
      "The Zen of Python, by Tim Peters\n",
      "\n",
      "Beautiful is better than ugly.\n",
      "Explicit is better than implicit.\n",
      "Simple is better than complex.\n",
      "Complex is better than complicated.\n",
      "Flat is better than nested.\n",
      "Sparse is better than dense.\n",
      "Readability counts.\n",
      "Special cases aren't special enough to break the rules.\n",
      "Although practicality beats purity.\n",
      "Errors should never pass silently.\n",
      "Unless explicitly silenced.\n",
      "In the face of ambiguity, refuse the temptation to guess.\n",
      "There should be one-- and preferably only one --obvious way to do it.\n",
      "Although that way may not be obvious at first unless you're Dutch.\n",
      "Now is better than never.\n",
      "Although never is often better than *right* now.\n",
      "If the implementation is hard to explain, it's a bad idea.\n",
      "If the implementation is easy to explain, it may be a good idea.\n",
      "Namespaces are one honking great idea -- let's do more of those!\n"
     ]
    }
   ],
   "source": [
    "import this"
   ]
  },
  {
   "cell_type": "markdown",
   "id": "4ec4afda-503a-4630-b1d3-594b510be8a5",
   "metadata": {},
   "source": [
    "Here is the ChatGPT's explanation of each of the principles:\n",
    "\n",
    "Let's delve into each principle of PEP 20, providing a bit more detail and context:\n",
    "\n",
    "1. **Beautiful is better than ugly**: \n",
    "Emphasizes the importance of writing code that is aesthetically pleasing and easy to understand. Code should be crafted with care to enhance its visual appeal and maintainability.\n",
    "\n",
    "2. **Explicit is better than implicit**: Encourages developers to be clear and explicit in their code rather than relying on hidden or implicit behaviors. This promotes transparency and reduces the chances of misunderstandings.\n",
    "\n",
    "3. **Simple is better than complex**: Advocates for simplicity in code design. While complexity may be necessary, it should not be introduced unnecessarily. Simple code is often easier to understand, debug, and maintain.\n",
    "\n",
    "4. **Complex is better than complicated**: Acknowledges that there are situations where complexity is unavoidable. However, it should be clear and straightforward rather than needlessly convoluted.\n",
    "\n",
    "5. **Flat is better than nested**: Advises against excessive nesting in code. Flat structures are generally more readable and make it easier to follow the logic.\n",
    "\n",
    "6. **Sparse is better than dense**: Recommends using whitespace and structural elements to make the code more readable. Avoid cramming too much information into a small space.\n",
    "\n",
    "7. **Readability counts**: Reiterates the importance of code being easy to read. Given that code is read more often than it is written, prioritizing readability aids collaboration and maintenance.\n",
    "\n",
    "8. **Special cases aren't special enough to break the rules**: Discourages the creation of exceptions or special cases that deviate significantly from established coding practices. Consistency is valuable.\n",
    "\n",
    "9. **Although practicality beats purity**: Acknowledges that in the real world, practical solutions may be more important than strictly adhering to idealistic principles. Pragmatism is encouraged.\n",
    "\n",
    "10. **Errors should never pass silently, unless explicitly silenced**: Promotes explicit error handling. Unhandled errors can lead to unexpected behavior, so it's crucial to either handle them appropriately or explicitly indicate when silence is intentional.\n",
    "\n",
    "11. **In the face of ambiguity, refuse the temptation to guess**: Advocates for clarity when faced with uncertain situations. Avoid making assumptions and prioritize clear communication of intent.\n",
    "\n",
    "12. **There should be one-- and preferably only one --obvious way to do it**: Encourages a singular, clear approach to problem-solving. Reducing ambiguity and standardizing solutions fosters consistency.\n",
    "\n",
    "13. **Although that way may not be obvious at first unless you're Dutch**: A humorous nod to Guido van Rossum, the creator of Python. It acknowledges that the \"obvious\" way might not always be immediately apparent.\n",
    "\n",
    "14. **Now is better than never**: Encourages progress and action. Avoid unnecessary delays and aim for incremental improvements rather than waiting for a perfect solution.\n",
    "\n",
    "15. **Although never is often better than right now**: Recognizes the value of careful consideration and planning. Rushed decisions can lead to mistakes, and sometimes it's better to take the time to find a well-thought-out solution.\n",
    "\n",
    "16. **If the implementation is hard to explain, it's a bad idea**: Emphasizes the importance of code that is easy to explain and understand. Code should be clear, reducing the need for convoluted explanations.\n",
    "\n",
    "17. **If the implementation is easy to explain, it may be a good idea**: Contrasts with the previous point, suggesting that simplicity in explanation is a positive indicator of code quality.\n",
    "\n",
    "18. **Namespaces are one honking great idea** -- let's do more of those!: Celebrates the concept of namespaces, which help organize and encapsulate code. Encourages the use of namespaces for clarity and avoiding naming conflicts.\n",
    "\n",
    "These principles collectively capture the philosophy of Python, promoting code that is clear, readable, and maintainable, fostering a collaborative and efficient development process."
   ]
  },
  {
   "cell_type": "markdown",
   "id": "079fb4f8-4b88-4213-b527-cee517b02dea",
   "metadata": {},
   "source": [
    "#### 1.1 Exercises\n",
    "\n",
    "Suppose you wanted to collect the names in the above list that have six letters or more. In other programming languages, the typical approach is to create an index variable (i), use i to iterate over the list, and use an if statement to collect the names with six letters or more:"
   ]
  },
  {
   "cell_type": "code",
   "execution_count": 1,
   "id": "ad266674-9de3-4fa4-885f-0b91a6cb8b58",
   "metadata": {
    "tags": []
   },
   "outputs": [],
   "source": [
    "names = ['Jerry', 'Kramer', 'Elaine', 'George', 'Newman']"
   ]
  },
  {
   "cell_type": "code",
   "execution_count": 2,
   "id": "13a6fd82-b0e1-462c-a3b2-db5a964d0ce0",
   "metadata": {
    "tags": []
   },
   "outputs": [
    {
     "name": "stdout",
     "output_type": "stream",
     "text": [
      "['Kramer', 'Elaine', 'George', 'Newman']\n"
     ]
    }
   ],
   "source": [
    "# Print the list created using the Non-Pythonic approach\n",
    "i = 0\n",
    "new_list= []\n",
    "while i < len(names):\n",
    "    if len(names[i]) >= 6:\n",
    "        new_list.append(names[i])\n",
    "    i += 1\n",
    "print(new_list)"
   ]
  },
  {
   "cell_type": "code",
   "execution_count": 3,
   "id": "78b77aeb-109f-4735-9eee-46460a8d40c3",
   "metadata": {
    "tags": []
   },
   "outputs": [
    {
     "name": "stdout",
     "output_type": "stream",
     "text": [
      "['Kramer', 'Elaine', 'George', 'Newman']\n"
     ]
    }
   ],
   "source": [
    "# Print the list created by looping over the contents of names\n",
    "better_list = []\n",
    "for name in names:\n",
    "    if len(name) >= 6:\n",
    "        better_list.append(name)\n",
    "print(better_list)"
   ]
  },
  {
   "cell_type": "code",
   "execution_count": 4,
   "id": "0c6607c8-6d76-45dc-8981-6b7ac67fcd59",
   "metadata": {
    "tags": []
   },
   "outputs": [
    {
     "name": "stdout",
     "output_type": "stream",
     "text": [
      "['Kramer', 'Elaine', 'George', 'Newman']\n"
     ]
    }
   ],
   "source": [
    "# Print the list created by using list comprehension\n",
    "best_list = [name for name in names if len(name) >= 6]\n",
    "print(best_list)"
   ]
  },
  {
   "cell_type": "markdown",
   "id": "2c43a926-daa7-41cd-8bf8-387bb181c397",
   "metadata": {},
   "source": [
    "## 1.2 Built-ins"
   ]
  },
  {
   "cell_type": "code",
   "execution_count": null,
   "id": "1aa38377-c9f8-4b3f-9828-be6514dc631e",
   "metadata": {},
   "outputs": [],
   "source": []
  }
 ],
 "metadata": {
  "kernelspec": {
   "display_name": "Python 3 (ipykernel)",
   "language": "python",
   "name": "python3"
  },
  "language_info": {
   "codemirror_mode": {
    "name": "ipython",
    "version": 3
   },
   "file_extension": ".py",
   "mimetype": "text/x-python",
   "name": "python",
   "nbconvert_exporter": "python",
   "pygments_lexer": "ipython3",
   "version": "3.11.5"
  }
 },
 "nbformat": 4,
 "nbformat_minor": 5
}
