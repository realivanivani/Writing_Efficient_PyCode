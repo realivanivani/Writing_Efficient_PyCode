{
 "cells": [
  {
   "cell_type": "markdown",
   "id": "aa1b35ae-317b-400b-93e0-2ea96d7ce8cc",
   "metadata": {},
   "source": [
    "## Chapter 1: Foundations for Efficiencies\n",
    "\n",
    "As a data scientist, the majority of your time should be spent gleaning actionable insights from data. Whether you're cleaning and curating a messy dataset, deploying a machine learning model, or creating a sleek data visualization, the code you write should be a helpful tool to quickly get you where you need to go - not something that leaves you waiting around. In this course, you'll learn how to write cleaner, faster, and more efficient Python code. We'll explore how to time and profile your code in order to find potential bottlenecks. Then, you'll practice eliminating these bottlenecks, and other bad design patterns, using Python's Standard Library, NumPy, and pandas. After completing this course, you'll have everything you need to start writing elegant and efficient Python code! But first, let's explore what is meant by efficient Python code.\n",
    "\n",
    "In this chapter we will explore following concepts:\n",
    "\n",
    "    1.1 What is Efficient Code?\n",
    "Efficiency in Python code for data scientists revolves around writing code that is not only fast but also follows Pythonic principles. We'll explore the concept of efficiency in data science and how it aligns with Pythonic practices.\n",
    "\n",
    "    1.2 Building with Built-ins\n",
    "Python's Standard Library offers a treasure trove of built-in functions and modules. Leveraging these can significantly enhance code efficiency. We'll delve into examples of how to use built-ins to streamline your code.\n",
    "\n",
    "    1.3 The Power of NumPy Arrays\n",
    "NumPy, a fundamental library for scientific computing, provides powerful array operations. We'll explore how using NumPy arrays can optimize numerical operations and enhance the overall performance of your code."
   ]
  },
  {
   "cell_type": "markdown",
   "id": "21abe30a-5a39-433f-af23-f033c445dbaa",
   "metadata": {},
   "source": [
    "### 1.1 Zen of Python\n",
    "\n",
    "PEP 20, also known as \"The Zen of Python,\" is a collection of guiding principles for writing computer programs in the Python language. Created by Tim Peters, PEP 20 aims to capture the design philosophy of Python and provide developers with a set of guiding principles to follow. These principles are meant to emphasize the importance of code readability, simplicity, and explicitness."
   ]
  },
  {
   "cell_type": "code",
   "execution_count": 5,
   "id": "0c936dc6-778b-4c07-b262-ba6c0f5a5336",
   "metadata": {
    "tags": []
   },
   "outputs": [
    {
     "name": "stdout",
     "output_type": "stream",
     "text": [
      "The Zen of Python, by Tim Peters\n",
      "\n",
      "Beautiful is better than ugly.\n",
      "Explicit is better than implicit.\n",
      "Simple is better than complex.\n",
      "Complex is better than complicated.\n",
      "Flat is better than nested.\n",
      "Sparse is better than dense.\n",
      "Readability counts.\n",
      "Special cases aren't special enough to break the rules.\n",
      "Although practicality beats purity.\n",
      "Errors should never pass silently.\n",
      "Unless explicitly silenced.\n",
      "In the face of ambiguity, refuse the temptation to guess.\n",
      "There should be one-- and preferably only one --obvious way to do it.\n",
      "Although that way may not be obvious at first unless you're Dutch.\n",
      "Now is better than never.\n",
      "Although never is often better than *right* now.\n",
      "If the implementation is hard to explain, it's a bad idea.\n",
      "If the implementation is easy to explain, it may be a good idea.\n",
      "Namespaces are one honking great idea -- let's do more of those!\n"
     ]
    }
   ],
   "source": [
    "import this"
   ]
  },
  {
   "cell_type": "markdown",
   "id": "4ec4afda-503a-4630-b1d3-594b510be8a5",
   "metadata": {},
   "source": [
    "Here is the ChatGPT's explanation of each of the principles:\n",
    "\n",
    "Let's delve into each principle of PEP 20, providing a bit more detail and context:\n",
    "\n",
    "1. **Beautiful is better than ugly**: \n",
    "Emphasizes the importance of writing code that is aesthetically pleasing and easy to understand. Code should be crafted with care to enhance its visual appeal and maintainability.\n",
    "\n",
    "2. **Explicit is better than implicit**: Encourages developers to be clear and explicit in their code rather than relying on hidden or implicit behaviors. This promotes transparency and reduces the chances of misunderstandings.\n",
    "\n",
    "3. **Simple is better than complex**: Advocates for simplicity in code design. While complexity may be necessary, it should not be introduced unnecessarily. Simple code is often easier to understand, debug, and maintain.\n",
    "\n",
    "4. **Complex is better than complicated**: Acknowledges that there are situations where complexity is unavoidable. However, it should be clear and straightforward rather than needlessly convoluted.\n",
    "\n",
    "5. **Flat is better than nested**: Advises against excessive nesting in code. Flat structures are generally more readable and make it easier to follow the logic.\n",
    "\n",
    "6. **Sparse is better than dense**: Recommends using whitespace and structural elements to make the code more readable. Avoid cramming too much information into a small space.\n",
    "\n",
    "7. **Readability counts**: Reiterates the importance of code being easy to read. Given that code is read more often than it is written, prioritizing readability aids collaboration and maintenance.\n",
    "\n",
    "8. **Special cases aren't special enough to break the rules**: Discourages the creation of exceptions or special cases that deviate significantly from established coding practices. Consistency is valuable.\n",
    "\n",
    "9. **Although practicality beats purity**: Acknowledges that in the real world, practical solutions may be more important than strictly adhering to idealistic principles. Pragmatism is encouraged.\n",
    "\n",
    "10. **Errors should never pass silently, unless explicitly silenced**: Promotes explicit error handling. Unhandled errors can lead to unexpected behavior, so it's crucial to either handle them appropriately or explicitly indicate when silence is intentional.\n",
    "\n",
    "11. **In the face of ambiguity, refuse the temptation to guess**: Advocates for clarity when faced with uncertain situations. Avoid making assumptions and prioritize clear communication of intent.\n",
    "\n",
    "12. **There should be one-- and preferably only one --obvious way to do it**: Encourages a singular, clear approach to problem-solving. Reducing ambiguity and standardizing solutions fosters consistency.\n",
    "\n",
    "13. **Although that way may not be obvious at first unless you're Dutch**: A humorous nod to Guido van Rossum, the creator of Python. It acknowledges that the \"obvious\" way might not always be immediately apparent.\n",
    "\n",
    "14. **Now is better than never**: Encourages progress and action. Avoid unnecessary delays and aim for incremental improvements rather than waiting for a perfect solution.\n",
    "\n",
    "15. **Although never is often better than right now**: Recognizes the value of careful consideration and planning. Rushed decisions can lead to mistakes, and sometimes it's better to take the time to find a well-thought-out solution.\n",
    "\n",
    "16. **If the implementation is hard to explain, it's a bad idea**: Emphasizes the importance of code that is easy to explain and understand. Code should be clear, reducing the need for convoluted explanations.\n",
    "\n",
    "17. **If the implementation is easy to explain, it may be a good idea**: Contrasts with the previous point, suggesting that simplicity in explanation is a positive indicator of code quality.\n",
    "\n",
    "18. **Namespaces are one honking great idea** -- let's do more of those!: Celebrates the concept of namespaces, which help organize and encapsulate code. Encourages the use of namespaces for clarity and avoiding naming conflicts.\n",
    "\n",
    "These principles collectively capture the philosophy of Python, promoting code that is clear, readable, and maintainable, fostering a collaborative and efficient development process."
   ]
  },
  {
   "cell_type": "markdown",
   "id": "079fb4f8-4b88-4213-b527-cee517b02dea",
   "metadata": {},
   "source": [
    "#### 1.1 Exercises\n",
    "\n",
    "Suppose you wanted to collect the names in the above list that have six letters or more. In other programming languages, the typical approach is to create an index variable (i), use i to iterate over the list, and use an if statement to collect the names with six letters or more:"
   ]
  },
  {
   "cell_type": "code",
   "execution_count": 1,
   "id": "ad266674-9de3-4fa4-885f-0b91a6cb8b58",
   "metadata": {
    "tags": []
   },
   "outputs": [],
   "source": [
    "names = ['Jerry', 'Kramer', 'Elaine', 'George', 'Newman']"
   ]
  },
  {
   "cell_type": "code",
   "execution_count": 2,
   "id": "13a6fd82-b0e1-462c-a3b2-db5a964d0ce0",
   "metadata": {
    "tags": []
   },
   "outputs": [
    {
     "name": "stdout",
     "output_type": "stream",
     "text": [
      "['Kramer', 'Elaine', 'George', 'Newman']\n"
     ]
    }
   ],
   "source": [
    "# Print the list created using the Non-Pythonic approach\n",
    "i = 0\n",
    "new_list= []\n",
    "while i < len(names):\n",
    "    if len(names[i]) >= 6:\n",
    "        new_list.append(names[i])\n",
    "    i += 1\n",
    "print(new_list)"
   ]
  },
  {
   "cell_type": "code",
   "execution_count": 3,
   "id": "78b77aeb-109f-4735-9eee-46460a8d40c3",
   "metadata": {
    "tags": []
   },
   "outputs": [
    {
     "name": "stdout",
     "output_type": "stream",
     "text": [
      "['Kramer', 'Elaine', 'George', 'Newman']\n"
     ]
    }
   ],
   "source": [
    "# Print the list created by looping over the contents of names\n",
    "better_list = []\n",
    "for name in names:\n",
    "    if len(name) >= 6:\n",
    "        better_list.append(name)\n",
    "print(better_list)"
   ]
  },
  {
   "cell_type": "code",
   "execution_count": 4,
   "id": "0c6607c8-6d76-45dc-8981-6b7ac67fcd59",
   "metadata": {
    "tags": []
   },
   "outputs": [
    {
     "name": "stdout",
     "output_type": "stream",
     "text": [
      "['Kramer', 'Elaine', 'George', 'Newman']\n"
     ]
    }
   ],
   "source": [
    "# Print the list created by using list comprehension\n",
    "best_list = [name for name in names if len(name) >= 6]\n",
    "print(best_list)"
   ]
  },
  {
   "cell_type": "markdown",
   "id": "2c43a926-daa7-41cd-8bf8-387bb181c397",
   "metadata": {},
   "source": [
    "## 1.2 Built-ins"
   ]
  },
  {
   "cell_type": "markdown",
   "id": "8534c7b3-3cda-4497-a4d8-ed06789462d9",
   "metadata": {},
   "source": [
    "Python's Standard Library offers a treasure trove of built-in functions and modules. Leveraging these can significantly enhance code efficiency. We'll delve into examples of how to use built-ins to streamline your code. We should default to using a built-in solution (if one exists) rather than developing our own.\n",
    "\n",
    "1. Built-in function: range()\n",
    "This is a handy tool whenever we want to create a sequence of numbers. Suppose we wanted to create a list of integers from zero to ten. We can provide range with a start and stop value to create this sequence. Or, we can provide just a stop value assuming that we want our sequence to start at zero. Notice that the stop value is exclusive, or up to but not including this value. Also note the range function returns a range object, which we can convert into a list and print.\n",
    "    \n",
    "    > range(0,11)\n",
    "    > range(11)\n",
    "    >> [0,1,2,3,4,5,6,7,8,9,10]\n",
    "    \n",
    "    range can also accept a start, stop, and step value (in that order). In this block of code, we tell range to create a sequence of numbers starting at two, ending at ten, and incrementing by two.\n",
    "    \n",
    "    > range(2,11,2)\n",
    "    >> [2,4,6,8,10]\n",
    "    \n",
    "2. Built-in function: enumerate()\n",
    "Another useful built-in function is enumerate. enumerate creates an index item pair for each item in the object provided. For example, calling enumerate on the list letters produces a sequence of indexed values. Similar to range, enumerate returns an enumerate object, which can also be converted into a list and printed.\n",
    "    \n",
    "    > letters = ['a','b','c']\n",
    "    > indexed_letters = enumerate(letters)\n",
    "    > list(indexed_letters)\n",
    "     >> [(0,'a'), (1,'b'),(2,'c')]\n",
    "     \n",
    "    We can also specify the starting index of enumerate with the keyword argument start. Here, we tell enumerate to start the index at five by passing start equals five into the function call.\n",
    "\n",
    "    > indexed_letters = enumerate(letters, start=5)\n",
    "    > list(indexed_letters)\n",
    "     >> [(5,'a'), (6,'b'),(7,'c')]\n",
    "     \n",
    "3. Built-in function: map()\n",
    "map applies a function to each element in an object. Notice that map takes two arguments; first, the function you'd like to apply and second, the object you'd like to apply that function on. Here, we use map to apply the built-in function round to each element of the nums list.\n",
    "\n",
    "    > nums = [1.5,2.3,3.4,4.6,5.0]\n",
    "    > map(round,nums)\n",
    "    >> [2,2,3,5,5]\n",
    "    \n",
    "    map can also be used with a lambda, or, an anonymous function. Notice here, that we can use map and a lambda expression to apply a function, which we've defined on the fly, to our original list nums. The map function provides a quick and clean way to apply a function to an object iteratively without writing a for loop.\n",
    "\n",
    "    > nums = [1,2,3,4,5]\n",
    "    > sqrd_nums = map(lambda x: x**2, nums)\n",
    "    >> [1,4,9,16,25]"
   ]
  },
  {
   "cell_type": "markdown",
   "id": "98b56511-9cae-46cb-b91d-070115284f86",
   "metadata": {},
   "source": [
    "#### 1.2 Exercises\n"
   ]
  },
  {
   "cell_type": "code",
   "execution_count": 6,
   "id": "735a9e57-0ccb-4662-83c0-4a594adbd61c",
   "metadata": {
    "tags": []
   },
   "outputs": [
    {
     "name": "stdout",
     "output_type": "stream",
     "text": [
      "<class 'range'>\n",
      "[0, 1, 2, 3, 4, 5]\n",
      "[1, 3, 5, 7, 9, 11]\n"
     ]
    }
   ],
   "source": [
    "# Create a range object that goes from 0 to 5\n",
    "nums = range(6)\n",
    "print(type(nums))\n",
    "\n",
    "# Convert nums to a list\n",
    "nums_list = list(nums)\n",
    "print(nums_list)\n",
    "\n",
    "# Create a new list of odd numbers from 1 to 11 by unpacking a range object\n",
    "nums_list2 = [*range(1,12,2)]\n",
    "print(nums_list2)"
   ]
  },
  {
   "cell_type": "code",
   "execution_count": 7,
   "id": "147c3c0f-904c-4eea-8e58-4c65e6c7e93f",
   "metadata": {
    "tags": []
   },
   "outputs": [
    {
     "name": "stdout",
     "output_type": "stream",
     "text": [
      "[(0, 'Jerry'), (1, 'Kramer'), (2, 'Elaine'), (3, 'George'), (4, 'Newman')]\n",
      "[(0, 'Jerry'), (1, 'Kramer'), (2, 'Elaine'), (3, 'George'), (4, 'Newman')]\n",
      "[(1, 'Jerry'), (2, 'Kramer'), (3, 'Elaine'), (4, 'George'), (5, 'Newman')]\n"
     ]
    }
   ],
   "source": [
    "# Rewrite the for loop to use enumerate\n",
    "indexed_names = []\n",
    "for i,name in enumerate(names):\n",
    "    index_name = (i,name)\n",
    "    indexed_names.append(index_name) \n",
    "print(indexed_names)\n",
    "\n",
    "# Rewrite the above for loop using list comprehension\n",
    "indexed_names_comp = [(i,name) for i,name in enumerate(names)]\n",
    "print(indexed_names_comp)\n",
    "\n",
    "# Unpack an enumerate object with a starting index of one\n",
    "indexed_names_unpack = [*enumerate(names, 1)]\n",
    "print(indexed_names_unpack)"
   ]
  },
  {
   "cell_type": "code",
   "execution_count": 8,
   "id": "3ff40f98-e91b-4e59-8138-673d2a10d671",
   "metadata": {
    "tags": []
   },
   "outputs": [
    {
     "name": "stdout",
     "output_type": "stream",
     "text": [
      "<class 'map'>\n",
      "['JERRY', 'KRAMER', 'ELAINE', 'GEORGE', 'NEWMAN']\n"
     ]
    }
   ],
   "source": [
    "names = ['Jerry', 'Kramer', 'Elaine', 'George', 'Newman']\n",
    "\n",
    "# Use map to apply str.upper to each element in names\n",
    "names_map  = map(str.upper, names)\n",
    "\n",
    "# Print the type of the names_map\n",
    "print(type(names_map))\n",
    "\n",
    "# Unpack names_map into a list\n",
    "names_uppercase = [*(names_map)]\n",
    "\n",
    "# Print the list created above\n",
    "print(names_uppercase)"
   ]
  },
  {
   "cell_type": "markdown",
   "id": "b9e11a73-c7d6-440e-ad56-70da908a2099",
   "metadata": {},
   "source": [
    "### 1.3 The Power of NumPy Arrays\n",
    "NumPy, a fundamental library for scientific computing, provides powerful array operations. We'll explore how using NumPy arrays can optimize numerical operations and enhance the overall performance of your code.\n",
    "\n",
    "2. NumPy array overview\n",
    "NumPy arrays provide a fast and memory efficient alternative to Python lists. Typically, we import NumPy as np and use np dot array to create a NumPy array. \n",
    "\n",
    "    > import numpy as np\n",
    "    > nums_np = np.array(range(5))\n",
    "    >> array([0,1,2,3,4])\n",
    "    \n",
    "    **NumPy arrays are homogeneous**, which means that they must contain elements of the same type. We can see the type of each element using the dot dtype method. \n",
    "    \n",
    "    > nums_np.dtype\n",
    "    >> dtype('int64')\n",
    "    \n",
    "    Suppose we created an array using a mixture of types. Here, we create the array nums_np_floats using the integers one and three and a float two point five. Can you spot the difference in the output? The integers now have a proceeding dot in the array. That's because NumPy converted the integers to floats to retain that array's homogeneous nature. Using dot dtype, we can verify that the elements in this array are floats. \n",
    "    \n",
    "    > nums_float = np.array([1,2.5,3])\n",
    "    >> array([1.,2.5,3.])\n",
    "    \n",
    "    > nums_float.dtype\n",
    "    >> dtype('float64')\n",
    "    \n",
    "    Homogeneity allows NumPy arrays to be more memory efficient and faster than Python lists. Requiring all elements be the same type eliminates the overhead needed for data type checking.\n",
    "    \n",
    "2. NumPy array broadcasting\n",
    "When analyzing data, you'll often want to perform operations over entire collections of values quickly. Say, for example, you'd like to square each number within a list of numbers. It'd be nice if we could simply square the list, and get a list of squared values returned. Unfortunately, Python lists don't support these types of calculations.\n",
    "\n",
    "    We could square the values using a list by writing a for loop or using a list comprehension. But neither of these approaches is the most efficient way of doing this.\n",
    "\n",
    "    > [num ** 2 for num in nums]\n",
    "\n",
    "   Here lies the second advantage of NumPy arrays - their broadcasting functionality. **NumPy arrays vectorize operations**, so they are performed on all elements of an object at once. This allows us to efficiently perform calculations over entire arrays. Notice that by squaring the array nums_np, all elements are squared at once.\n",
    "   \n",
    "   > nums_np = np.array([]) ** 2\n",
    "   \n",
    "3. NumPy array indexing\n",
    "Another advantage of NumPy arrays is their indexing capabilities. When comparing basic indexing between a one-dimensional array and list, the capabilities are identical.\n",
    "\n",
    "    When using two-dimensional arrays and lists, the advantages of arrays are clear. To return the second item of the first row in our two-dimensional object, the array syntax is square bracket, zero, comma, one, square bracket. The analogous list syntax is a bit more verbose as you have to surround both the zero and one with square brackets. \n",
    "    \n",
    "    lists\n",
    "    > nums2 [0][1]\n",
    "    \n",
    "    arrays\n",
    "    > nums2_np[0,1]\n",
    "    \n",
    "    To return the first column of values in our two-d object, the array syntax is square bracket, colon, comma, zero, square bracket. Lists don't support this type of syntax, so we must use a list comprehension to return columns.\n",
    "    \n",
    "    > [row[0] for row in nums2]\n",
    "    >> [1,4]\n",
    "    \n",
    "    > nums2_np[:,0]\n",
    "    >> array([1,4])\n",
    "    \n",
    "4. NumPy array boolean indexing\n",
    "NumPy arrays also have a special technique called boolean indexing. Suppose we wanted to gather only positive numbers from the sequence listed here. With an array, we can create a boolean mask using a simple inequality. Indexing the array is as simple as enclosing this inequality in square brackets.\n",
    "\n",
    "    > nums_np > 0\n",
    "    >> array([False, False, True])\n",
    "    \n",
    "    > nums_np[nums_np > 0]\n",
    "    >> array([1,2])"
   ]
  },
  {
   "cell_type": "markdown",
   "id": "3528cda6-f5ae-4af3-9f56-dd5a206b01a5",
   "metadata": {},
   "source": [
    "#### 1.3 Exercises"
   ]
  },
  {
   "cell_type": "code",
   "execution_count": 12,
   "id": "1ffd83d0-1369-4093-9cc8-7d163e740db7",
   "metadata": {
    "tags": []
   },
   "outputs": [],
   "source": [
    "import numpy as np\n",
    "nums = np.array([[ 1,  2,  3,  4,  5],\n",
    "       [ 6,  7,  8,  9, 10]])"
   ]
  },
  {
   "cell_type": "code",
   "execution_count": 13,
   "id": "75bcdb9f-f9ca-4eef-a2cf-4b52a904dddb",
   "metadata": {
    "tags": []
   },
   "outputs": [
    {
     "name": "stdout",
     "output_type": "stream",
     "text": [
      "[ 6  7  8  9 10]\n",
      "[ 7  8  9 10]\n",
      "[[ 2  4  6  8 10]\n",
      " [12 14 16 18 20]]\n",
      "[[ 1  2  4  4  5]\n",
      " [ 6  7  9  9 10]]\n"
     ]
    }
   ],
   "source": [
    "# Print second row of nums\n",
    "print(nums[1,:])\n",
    "\n",
    "# Print all elements of nums that are greater than six\n",
    "print(nums[nums > 6])\n",
    "\n",
    "# Double every element of nums\n",
    "nums_dbl = nums * 2\n",
    "print(nums_dbl)\n",
    "\n",
    "# Replace the third column of nums with a new column that adds 1 to each item in the original column.\n",
    "nums[:,2] = nums[:,2] + 1\n",
    "print(nums)"
   ]
  },
  {
   "cell_type": "markdown",
   "id": "5a620e50-2c02-49b7-9b90-9f6297079400",
   "metadata": {},
   "source": [
    "You have a list of guests (the names list). Each guest, for whatever reason, has decided to show up to the party in 10-minute increments. For example, Jerry shows up to Festivus 10 minutes into the party's start time, Kramer shows up 20 minutes into the party, and so on and so forth.\n",
    "\n",
    "We want to write a few simple lines of code, using the built-ins we have covered, to welcome each of your guests and let them know how many minutes late they are to your party. Note that numpy has been imported into your session as np and the names list has been loaded as well."
   ]
  },
  {
   "cell_type": "code",
   "execution_count": 14,
   "id": "ec725178-cae1-446b-831d-da8f28707273",
   "metadata": {
    "tags": []
   },
   "outputs": [
    {
     "name": "stdout",
     "output_type": "stream",
     "text": [
      "[10, 20, 30, 40, 50]\n"
     ]
    }
   ],
   "source": [
    "# Create a list of arrival times\n",
    "arrival_times = [*range(10, 60, 10)]\n",
    "\n",
    "print(arrival_times)"
   ]
  },
  {
   "cell_type": "markdown",
   "id": "ba00c2aa-9a96-47e6-ac30-49c3f5cc4346",
   "metadata": {},
   "source": [
    "You realize your clock is three minutes fast. Convert the arrival_times list into a numpy array (called arrival_times_np) and use NumPy broadcasting to subtract three minutes from each arrival time."
   ]
  },
  {
   "cell_type": "code",
   "execution_count": 15,
   "id": "7c36ceb1-dd1a-4af2-b51a-96f405f26cd1",
   "metadata": {
    "tags": []
   },
   "outputs": [
    {
     "name": "stdout",
     "output_type": "stream",
     "text": [
      "[ 7 17 27 37 47]\n"
     ]
    }
   ],
   "source": [
    "# Create a list of arrival times\n",
    "arrival_times = [*range(10,60,10)]\n",
    "\n",
    "# Convert arrival_times to an array and update the times\n",
    "arrival_times_np = np.array(arrival_times)\n",
    "new_times = arrival_times_np - 3\n",
    "\n",
    "print(new_times)"
   ]
  },
  {
   "cell_type": "code",
   "execution_count": 16,
   "id": "d8c5a334-3f52-4411-a991-ae23a96b4e98",
   "metadata": {
    "tags": []
   },
   "outputs": [
    {
     "name": "stdout",
     "output_type": "stream",
     "text": [
      "[('Jerry', 7), ('Kramer', 17), ('Elaine', 27), ('George', 37), ('Newman', 47)]\n"
     ]
    }
   ],
   "source": [
    "# Use list comprehension and enumerate to pair guests to new times\n",
    "guest_arrivals = [(names[i],time) for i,time in enumerate(new_times)]\n",
    "\n",
    "print(guest_arrivals)"
   ]
  },
  {
   "cell_type": "code",
   "execution_count": 29,
   "id": "1da9006a-20b1-4a32-b143-b4c5293e3e9d",
   "metadata": {
    "tags": []
   },
   "outputs": [
    {
     "name": "stdout",
     "output_type": "stream",
     "text": [
      "Welcome to Festivus Jerry... You're 7 min late.\n",
      "Welcome to Festivus Kramer... You're 17 min late.\n",
      "Welcome to Festivus Elaine... You're 27 min late.\n",
      "Welcome to Festivus George... You're 37 min late.\n",
      "Welcome to Festivus Newman... You're 47 min late.\n"
     ]
    }
   ],
   "source": [
    "def welcome(guest_arrivals):\n",
    "    return \"Welcome to Festivus \"+str(guest_arrivals[0])+\"... You're \"+str(guest_arrivals[1])+\" min late.\"\n",
    "                 \n",
    "# Map the welcome_guest function to each (guest,time) pair\n",
    "welcome_map = map(welcome, guest_arrivals)\n",
    "\n",
    "guest_welcomes = [*welcome_map]\n",
    "print(*guest_welcomes, sep='\\n')"
   ]
  },
  {
   "cell_type": "code",
   "execution_count": null,
   "id": "d23b8964-13dc-480c-ba13-cf6ddc2aa901",
   "metadata": {},
   "outputs": [],
   "source": []
  }
 ],
 "metadata": {
  "kernelspec": {
   "display_name": "Python 3 (ipykernel)",
   "language": "python",
   "name": "python3"
  },
  "language_info": {
   "codemirror_mode": {
    "name": "ipython",
    "version": 3
   },
   "file_extension": ".py",
   "mimetype": "text/x-python",
   "name": "python",
   "nbconvert_exporter": "python",
   "pygments_lexer": "ipython3",
   "version": "3.11.5"
  }
 },
 "nbformat": 4,
 "nbformat_minor": 5
}
