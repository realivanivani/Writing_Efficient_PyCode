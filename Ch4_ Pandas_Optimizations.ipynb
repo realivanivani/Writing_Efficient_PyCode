{
 "cells": [
  {
   "cell_type": "markdown",
   "metadata": {},
   "source": [
    "## Intro to pandas DataFrame iteration\n",
    "\n",
    "1. pandas recap\n",
    "\n",
    "Just to recap, pandas is a library used for data analysis. The main construct of pandas is the DataFrame, a tabular data structure with labeled rows and columns. This chapter will focus on the best approaches for iterating over a DataFrame. Let's begin by analyzing a Major League Baseball dataset.\n",
    "\n",
    "2. Baseball stats\n",
    "\n",
    "We've collected team stats for each Major League Baseball team from the year 1962 to 2012, which are stored in a pandas DataFrame named baseball_df.\n",
    "The Team column is each baseball team's abbreviated name. The first team, ARI, represents the Arizona Diamondbacks.\n",
    "All other columns in this DataFrame represent specific statistics for each team in a given Year or season. We'll cover what the RS, RA, and Playoffs columns mean in later exercises. For now, we'll focus on the W column, which specifies the number of wins a team had in a season and the G column that contains the number of games a team played in a season.\n",
    "\n",
    "3. Calculating win percentage\n",
    "\n",
    "One popular statistic used to evaluate a team's performance for a given season is the team's win percentage. This metric is calculated by dividing a team's total wins by number of games played. We've written a simple function to perform this calculation. If a team wins 50 out of 100 games, we see that our function returns the correct result.\n",
    "\n",
    "    > import numpy as np\n",
    "\n",
    "    > def calc_win_perc(wins, games_played):\n",
    "\n",
    "        win_perc = wins / games_played\n",
    "\n",
    "        return np.round(win_perc,2)\n",
    "    \n",
    "4. Adding win percentage to DataFrame\n",
    "\n",
    "We'd like to create a new column in our baseball_df DataFrame that stores each team's win percentage for a season. To do this, we'll need to iterate over the DataFrame's rows and apply our calc_win_perc function. First, we create an empty win_perc_list to store all the win percentages we'll calculate. Then, we write a loop that will iterate over each row of the DataFrame. Notice that we are using an index variable (i) that ranges from zero to the number of rows that exist within the DataFrame. We then use the dot-iloc method to lookup each individual row within the DataFrame using the index variable. Now, we grab each team's wins and games played by referencing the W and G columns. Next, we pass the team's wins and games played to calc_win_perc to calculate the win percentages. Finally, we append win_perc to win_perc_list and continue the loop. We create our desired column in the DataFrame, called WP, by setting the column value equal to the win_perc_list.\n",
    "    \n",
    "    > %%timeit\n",
    "    \n",
    "    > win_perc_list = []\n",
    "\n",
    "    > for i in range(len(baseball_df)):\n",
    "        row = baseball_df.iloc[i]\n",
    "        wins = row['W']\n",
    "        games_played = row['G']\n",
    "        win_perc = calc_win_perc(wins, games_played)\n",
    "        win_perc_list.append(win_perc)\n",
    "    > baseball_df['WP'] = win_perc_list\n",
    "\n",
    "\n",
    "6. Iterating with .iloc\n",
    "\n",
    "Printing the first five rows of our DataFrame, we see that the win percentage column now appears.\n",
    "Looping over the DataFrame with dot-iloc gave us our desired output, but is it efficient? When estimating the runtime, the dot-iloc approach took 183 milliseconds, which is pretty inefficient.\n",
    "\n",
    "7. Iterating with .iterrows()\n",
    "\n",
    "pandas comes with a few efficient methods for looping over a DataFrame. The first method we'll cover is the dot-iterrows method. This is similar to the dot-iloc method, but dot-iterrows returns each DataFrame row as a tuple of (index, pandas Series) pairs. This means each object returned from dot-iterrows contains the index of each row as the first element and the data in each row as a pandas Series as the second element. Notice that we still create the empty win_perc_list, but now we don't have to create an index variable to look up each row within the DataFrame. dot-iterrows handles the indexing for us! The remainder of the for loop stays the same to create a new win percentage column within our baseball_df DataFrame.\n",
    "\n",
    "    > for i,row in baseball_df.iterrows():\n",
    "\n",
    "        wins = row['W']\n",
    "        games_played = row['G']\n",
    "\n",
    "        win_perc = calc_win_perc(wins, games_played)\n",
    "        win_perc_list.append(win_perc)\n",
    "    \n",
    "    > baseball_df['WP'] = win_perc_list\n",
    "    \n",
    "8. Iterating with .iterrows()\n",
    "\n",
    "Using dot-iterrows takes roughly half the time dot-iloc takes to iterate over our DataFrame. We'll explore more efficient ways to loop over a DataFrame later on in the chapter. But for now, we know that using dot-iloc is not efficient and shouldn't be used to iterate over a DataFrame."
   ]
  },
  {
   "cell_type": "markdown",
   "metadata": {},
   "source": []
  },
  {
   "cell_type": "markdown",
   "metadata": {},
   "source": [
    "### Exercise\n",
    "#### Iterating with .iterrows()\n",
    "In the video, we discussed that .iterrows() returns each DataFrame row as a tuple of (index, pandas Series) pairs. But, what does this mean? Let's explore with a few coding exercises.\n",
    "\n",
    "A pandas DataFrame has been loaded into your session called pit_df. This DataFrame contains the stats for the Major League Baseball team named the Pittsburgh Pirates (abbreviated as 'PIT') from the year 2008 to the year 2012. It has been printed into your console for convenience."
   ]
  },
  {
   "cell_type": "code",
   "execution_count": null,
   "metadata": {
    "vscode": {
     "languageId": "plaintext"
    }
   },
   "outputs": [],
   "source": [
    "# Iterate over pit_df and print each index variable, row, and row type\n",
    "for i,row in pit_df.iterrows():\n",
    "    print(i)\n",
    "    print(row)\n",
    "    print(type(row))"
   ]
  },
  {
   "cell_type": "code",
   "execution_count": null,
   "metadata": {
    "vscode": {
     "languageId": "plaintext"
    }
   },
   "outputs": [],
   "source": [
    "# Use one variable instead of two to store the result of .iterrows()\n",
    "for row_tuple in pit_df.iterrows():\n",
    "    print(row_tuple)\n",
    "    # Print the row and type of each row for row_tuple in pit_df.iterrows():\n",
    "    print(type(row_tuple))"
   ]
  },
  {
   "cell_type": "markdown",
   "metadata": {},
   "source": [
    ".iterrows() returns each DataFrame row as a tuple of (index, pandas Series) pairs, you can either split this tuple and use the index and row-values separately (as you did with for i,row in pit_df.iterrows()), or you can keep the result of .iterrows() in the tuple form (as you did with for row_tuple in pit_df.iterrows()).\n",
    "\n",
    "If using i,row, you can access things from the row using square brackets (i.e., row['Team']). If using row_tuple, you would have to specify which element of the tuple you'd like to access before grabbing the team name (i.e., row_tuple[1]['Team']).\n",
    "\n",
    "With either approach, using .iterrows() will still be substantially faster than using .iloc as you saw in the video."
   ]
  },
  {
   "cell_type": "markdown",
   "metadata": {},
   "source": [
    "#### Run differentials with .iterrows()\n",
    "You've been hired by the San Francisco Giants as an analyst—congrats! The team's owner wants you to calculate a metric called the run differential for each season from the year 2008 to 2012. This metric is calculated by subtracting the total number of runs a team allowed in a season from the team's total number of runs scored in a season. 'RS' means runs scored and 'RA' means runs allowed.\n",
    "\n",
    "The below function calculates this metric:"
   ]
  },
  {
   "cell_type": "code",
   "execution_count": null,
   "metadata": {
    "vscode": {
     "languageId": "plaintext"
    }
   },
   "outputs": [],
   "source": [
    "def calc_run_diff(runs_scored, runs_allowed):\n",
    "\n",
    "    run_diff = runs_scored - runs_allowed\n",
    "\n",
    "    return run_diff\n"
   ]
  },
  {
   "cell_type": "markdown",
   "metadata": {},
   "source": [
    "A DataFrame has been loaded into your session as giants_df and printed into the console. Let's practice using .iterrows() to add a run differential column to this DataFrame."
   ]
  },
  {
   "cell_type": "code",
   "execution_count": null,
   "metadata": {
    "vscode": {
     "languageId": "plaintext"
    }
   },
   "outputs": [],
   "source": [
    "# Create an empty list to store run differentials\n",
    "run_diffs = []\n",
    "\n",
    "# Write a for loop and collect runs allowed and runs scored for each row\n",
    "for i,row in giants_df.iterrows():\n",
    "    runs_scored = row['RS']\n",
    "    runs_allowed = row['RA']\n",
    "    \n",
    "    # Use the provided function to calculate run_diff for each row\n",
    "    run_diff = calc_run_diff(runs_scored, runs_allowed)\n",
    "    \n",
    "    # Append each run differential to the output list\n",
    "    run_diffs.append(run_diff)\n",
    "\n",
    "giants_df['RD'] = run_diffs\n",
    "print(giants_df)"
   ]
  },
  {
   "cell_type": "markdown",
   "metadata": {},
   "source": [
    "## Another iterator method: .itertuples()\n",
    "\n",
    "1. Another iterator method: .itertuples()\n",
    "\n",
    "In the previous lesson, we covered how to iterate over a pandas DataFrame row by row using the dot-iterrows method. pandas also comes with a similar iteration method called dot-itertuples that is often more efficient that dot-iterrows. Let's continue using our baseball dataset to compare these two methods.\n",
    "\n",
    "2. Team wins data\n",
    "\n",
    "Suppose we have a pandas DataFrame called team_wins_df that contains each team's total wins in a season.\n",
    "\n",
    "3. Iterating with .iterrows()\n",
    "\n",
    "If we use dot-iterrows to loop over our team_wins_df DataFrame and print each row's tuple, we see that each row's values are stored as a pandas Series. Remember, dot-iterrows returns each DataFrame row as a tuple of (index, pandas Series) pairs, so we have to access the row's values with square bracket indexing.\n",
    "\n",
    "    > for row_tuple in team_wins_df.iterrows():\n",
    "    \n",
    "4. Iterating with .itertuples()\n",
    "\n",
    "But, we could use dot-itertuples to loop over our DataFrame rows instead. The dot-itertuples method returns each DataFrame row as a special data type called a namedtuple. A namedtuple is one of the specialized data types that exist within the collections module we've discussed previously. These data types behave just like a Python tuple but have fields accessible using attribute lookup. What does this mean? Notice in the output that each printed row_namedtuple has an Index attribute and each column in our team_wins_df as an attribute. That means we can access each of these attributes with a lookup using a dot method. Here, we can print the last row_namedtuple's Index using row_namedtuple-dot-Index. We can print this row_namedtuple's Team with row_namedtuple-dot-Team, Year with row_namedtuple-dot-Year and so on.\n",
    "\n",
    "    > for row_namedtuple in team_wins_df.itertuples():\n",
    "        print(row_namedtuple)\n",
    "\n",
    "    > print(row_namedtuple.Team)\n",
    "        >> ATL\n",
    "\n",
    "5. Comparing methods\n",
    "\n",
    "When we compare dot-iterrows to dot-itertuples, we see that there is quite a bit of improvement! **The reason dot-itertuples is more efficient than dot-iterrows is due to the way each method stores its output. Since dot-iterrows returns each row's values as a pandas Series, there is a bit more overhead.**\n",
    "\n",
    "6. Attribute lookup caveat\n",
    "\n",
    "One more quick note about the differences between these methods. When using dot-iterrows, we can use square brackets to reference a column within our team_wins_df DataFrame. Here, we are printing the Team column for each row in our DataFrame. If we use the same syntax with dot-itertuples, we get a TypeError. This is due to the fact that namedtuples don't support square brackets like a pandas Series does. **When looking up an attribute within a namedtuple, we must use a dot to reference the attribute.** So anytime we use dot-itertuples we have to use a dot when referring to a column within our DataFrame. If we replace our square bracket notation with a dot, we see that the Teams are correctly printed out.\n",
    "\n",
    "    > for row_tuple in team_wins_df.iterrows():\n",
    "        print(row_tuple[1]['Team'])\n",
    "\n",
    "    > for row_namedtuple in team_wins_df.itertuples():\n",
    "        print(row_namedtuple.Team)"
   ]
  },
  {
   "cell_type": "markdown",
   "metadata": {},
   "source": []
  },
  {
   "cell_type": "markdown",
   "metadata": {},
   "source": [
    "### Exercise\n",
    "#### Iterating with .itertuples()\n",
    "Remember, .itertuples() returns each DataFrame row as a special data type called a namedtuple. You can look up an attribute within a namedtuple with a special syntax. Let's practice working with namedtuples.\n",
    "\n",
    "A pandas DataFrame has been loaded into your session called rangers_df. This DataFrame contains the stats ('Team', 'League', 'Year', 'RS', 'RA', 'W', 'G', and 'Playoffs') for the Major League baseball team named the Texas Rangers (abbreviated as 'TEX')."
   ]
  },
  {
   "cell_type": "code",
   "execution_count": null,
   "metadata": {},
   "outputs": [],
   "source": [
    "# Loop over the DataFrame and print each row\n",
    "for namedtuple in rangers_df.itertuples():\n",
    "  print(namedtuple)\n",
    "\n",
    "# Loop over the DataFrame and print each row's Index, Year and Wins (W)\n",
    "for row in rangers_df.itertuples():\n",
    "  i = row.Index\n",
    "  year = row.Year\n",
    "  wins = row.W\n",
    "  \n",
    "  # Check if rangers made Playoffs (1 means yes; 0 means no)\n",
    "  if row.Playoffs == 1:\n",
    "    print(i, year, wins)"
   ]
  },
  {
   "cell_type": "markdown",
   "metadata": {},
   "source": [
    "#### Run differentials with .itertuples()\n",
    "The New York Yankees have made a trade with the San Francisco Giants for your analyst contract— you're a hot commodity! Your new boss has seen your work with the Giants and now wants you to do something similar with the Yankees data. He'd like you to calculate run differentials for the Yankees from the year 1962 to the year 2012 and find which season they had the best run differential.\n",
    "\n",
    "You've remembered the function you used when working with the Giants and quickly write it down:"
   ]
  },
  {
   "cell_type": "code",
   "execution_count": null,
   "metadata": {},
   "outputs": [],
   "source": [
    "def calc_run_diff(runs_scored, runs_allowed):\n",
    "\n",
    "    run_diff = runs_scored - runs_allowed\n",
    "\n",
    "    return run_diff"
   ]
  },
  {
   "cell_type": "markdown",
   "metadata": {},
   "source": [
    "Let's use .itertuples() to loop over the yankees_df DataFrame (which has been loaded into your session) and calculate run differentials."
   ]
  },
  {
   "cell_type": "code",
   "execution_count": null,
   "metadata": {},
   "outputs": [],
   "source": [
    "run_diffs = []\n",
    "\n",
    "# Loop over the DataFrame and calculate each row's run differential\n",
    "for row in yankees_df.itertuples():\n",
    "    \n",
    "    runs_scored = row.RS\n",
    "    runs_allowed = row.RA\n",
    "\n",
    "    run_diff = calc_run_diff(runs_scored, runs_allowed)\n",
    "    \n",
    "    run_diffs.append(run_diff)\n",
    "\n",
    "# Append new column\n",
    "yankees_df['RD'] = run_diffs\n",
    "print(yankees_df)"
   ]
  },
  {
   "cell_type": "markdown",
   "metadata": {},
   "source": [
    "In what year within your DataFrame did the New York Yankees have the highest run differential?"
   ]
  },
  {
   "cell_type": "code",
   "execution_count": null,
   "metadata": {},
   "outputs": [],
   "source": [
    "yankees_df.sort_values(by='RD')"
   ]
  },
  {
   "cell_type": "markdown",
   "metadata": {},
   "source": [
    "## Pandas alternative to looping\n",
    "\n",
    "1. pandas alternative to looping\n",
    "\n",
    "We've been looping over DataFrames row-by-row with ease in the past two lessons. But remember, in order to write efficient code, we want to avoid looping when possible. In this lesson, we'll explore an alternative to using dot-iterrows and dot-itertuples to perform calculations on a DataFrame.\n",
    "\n",
    "2. Revisit run differentials\n",
    "\n",
    "We'll continue using our baseball dataset and revisit the calc_run_diff function we've used in the past. This function calculates a team's run differential for a given year by subtracting the team's total number of runs allowed from their total number of runs scored in a season.\n",
    "\n",
    "3. Run differentials with a loop\n",
    "\n",
    "We'd like to create a new column in our baseball_df DataFrame called RD that stores each team's run differentials over the years. In previous lessons, we did this with a for loop using either dot-iterrows or dot-itertuples. Here, we'll use dot-iterrows as an example. Notice that we are iterating over baseball_df with a for loop, passing each row's RS and RA columns into our calc_run_diff function, and then appending each row's result to our run_diffs_iterrows list. This gives us our desired output, but it is not our most efficient option.\n",
    "\n",
    "4. pandas .apply() method\n",
    "\n",
    "One alternative to using a loop to iterate over a DataFrame is to use pandas' dot-apply method. This function acts like the map function we've used in the past. It takes a function as an input and applies this function to an entire DataFrame. Since we are working with tabular data, we must specify an axis that we'd like our function to act on. Using a zero for the axis argument will apply our function on columns while using a one for the axis will apply our function on all rows. Just like the map function, pandas' dot-apply method can be used with anonymous functions or lambdas. Let's walk through how'd we'd use the dot-apply method to calculate our run differentials. First, we call dot-apply on the baseball_df DataFrame. Then, we use a lambda function to iterate over the rows of the DataFrame. Notice that our argument for lambda is row (since we are applying to each row of the DataFrame). For every row, we grab the RS and RA columns and pass them to our calc_run_diff function. Lastly, we specify our axis to tell dot-apply that we want to iterate over rows instead of columns.\n",
    "\n",
    "    > baseball_df.apply(lambda row: calc_run_diff(row['RS'], row['RA']), axis =1)\n",
    "\n",
    "5. Run differentials with .apply()\n",
    "\n",
    "When we use the dot-apply method to calculate our run differentials, we don't need to use a for loop. We can collect our run differentials directly into an object called run_diffs_apply. After creating our new column and printing the DataFrame, we see that our results are identical to the dot-iterrows approach. But, was using dot-apply more efficient?\n",
    "\n",
    "6. Comparing approaches\n",
    "\n",
    "When timing the dot-iterrows approach, we see that it took about 87 milliseconds to complete.\n",
    "\n",
    "7. Comparing approaches\n",
    "\n",
    "But, using the dot-apply method took only 30 milliseconds. A definite improvement!\n"
   ]
  },
  {
   "cell_type": "markdown",
   "metadata": {},
   "source": [
    "### Exercise\n",
    "#### Analyzing baseball stats with .apply()\n",
    "The Tampa Bay Rays want you to analyze their data.\n",
    "\n",
    "They'd like the following metrics:\n",
    "\n",
    "* The sum of each column in the data\n",
    "* The total amount of runs scored in a year ('RS' + 'RA' for each year)\n",
    "* The 'Playoffs' column in text format rather than using 1's and 0's\n",
    "\n",
    "The below function can be used to convert the 'Playoffs' column to text:"
   ]
  },
  {
   "cell_type": "code",
   "execution_count": null,
   "metadata": {},
   "outputs": [],
   "source": [
    "def text_playoffs(num_playoffs): \n",
    "    if num_playoffs == 1:\n",
    "        return 'Yes'\n",
    "    else:\n",
    "        return 'No'"
   ]
  },
  {
   "cell_type": "markdown",
   "metadata": {},
   "source": [
    "Use .apply() to get these metrics. A DataFrame (rays_df) has been loaded and printed to the console. This DataFrame is indexed on the 'Year' column."
   ]
  },
  {
   "cell_type": "code",
   "execution_count": null,
   "metadata": {},
   "outputs": [],
   "source": [
    "# Gather sum of all columns\n",
    "stat_totals = rays_df.apply(lambda row: sum(row), axis=0)\n",
    "print(stat_totals)"
   ]
  },
  {
   "cell_type": "code",
   "execution_count": null,
   "metadata": {},
   "outputs": [],
   "source": [
    "# Gather total runs scored in all games per year\n",
    "total_runs_scored = rays_df[['RS', 'RA']].apply(lambda row: sum(row), axis=1)\n",
    "print(total_runs_scored)"
   ]
  },
  {
   "cell_type": "code",
   "execution_count": null,
   "metadata": {},
   "outputs": [],
   "source": [
    "# Convert numeric playoffs to text by applying text_playoffs()\n",
    "textual_playoffs = rays_df.apply(lambda row: text_playoffs(row['Playoffs']), axis=1)\n",
    "print(textual_playoffs)"
   ]
  },
  {
   "cell_type": "markdown",
   "metadata": {},
   "source": [
    "You could have used rays_df.sum(axis=0) to get columnar sums and rays_df[['RS', 'RA']].sum(axis=1) to get row sums.\n",
    "\n",
    "You could have also used .apply() __directly__ on a Series (or column) of the DataFrame. For example, you could use rays_df['Playoffs'].apply(text_playoffs) to convert the 'Playoffs' column to text."
   ]
  },
  {
   "cell_type": "markdown",
   "metadata": {},
   "source": [
    "#### Settle a debate with .apply()\n",
    "Word has gotten to the Arizona Diamondbacks about your awesome analytics skills. They'd like for you to help settle a debate amongst the managers. One manager claims that the team has made the playoffs every year they have had a win percentage of 0.50 or greater. Another manager says this is not true.\n",
    "\n",
    "Let's use the below function and the .apply() method to see which manager is correct."
   ]
  },
  {
   "cell_type": "code",
   "execution_count": null,
   "metadata": {},
   "outputs": [],
   "source": [
    "def calc_win_perc(wins, games_played):\n",
    "    win_perc = wins / games_played\n",
    "    return np.round(win_perc,2)"
   ]
  },
  {
   "cell_type": "markdown",
   "metadata": {},
   "source": [
    "A DataFrame named dbacks_df has been loaded into your session."
   ]
  },
  {
   "cell_type": "code",
   "execution_count": null,
   "metadata": {},
   "outputs": [],
   "source": [
    "# Display the first five rows of the DataFrame\n",
    "print(dbacks_df.head())\n",
    "\n",
    "# Create a win percentage Series \n",
    "win_percs = dbacks_df.apply(lambda row: calc_win_perc(row['W'], row['G']), axis=1)\n",
    "print(win_percs, '\\n')\n",
    "\n",
    "# Append a new column to dbacks_df\n",
    "dbacks_df['WP'] = win_percs\n",
    "print(dbacks_df, '\\n')\n",
    "\n",
    "# Display dbacks_df where WP is greater than 0.50\n",
    "print(dbacks_df[dbacks_df['WP'] >= 0.50])"
   ]
  },
  {
   "cell_type": "markdown",
   "metadata": {},
   "source": [
    "## Optimal pandas iterating\n",
    "1. Optimal pandas iterating\n",
    "\n",
    "In this lesson, we'll explore some pandas internals that allow us to perform calculations even more efficiently.\n",
    "\n",
    "2. pandas internals\n",
    "\n",
    "As you know, we should try to stay away from loops when writing Python code - and working with pandas is no exception. In the previous lessons, we were iterating over a DataFrame row by row in order to perform a calculation. pandas is a library that is built on NumPy. This means that each pandas DataFrame we use can take advantage of the efficient characteristics of NumPy arrays that we learned in Chapter 1. Do you remember an array's broadcasting functionality? Broadcasting allows NumPy arrays to vectorize operations, so they are performed on all elements of an object at once. This allows us to efficiently perform calculations over entire arrays. Just like NumPy, pandas is designed to vectorize calculations so that they operate on entire datasets at once (not just on a row by row basis). Let's explore this concept with some examples.\n",
    "\n",
    "3. DataFrame columns as arrays\n",
    "\n",
    "We'll continue to use the baseball_df DataFrame we have been using throughout the chapter. Since pandas is built on top of NumPy, we can grab any of these DataFrame column's values as a NumPy array using the dot-values method. Here, we are collecting the W column's values into a NumPy array called wins_np. When we print the type of wins_np, we see that it is, in fact, a NumPy array. We can see the contents of the array by printing it and verifying that it is the same as the W column from our DataFrame.\n",
    "\n",
    "    > wins_np = baseball_df['W'].values\n",
    "\n",
    "    > print(type(wins_np))\n",
    "        >> <class 'numpy.ndarray'>\n",
    "\n",
    "4. Power of vectorization\n",
    "\n",
    "The beauty of knowing that pandas is built on NumPy can be seen when taking advantage of a **NumPy array's broadcasting abilities. Remember, this means we can vectorize our calculations, and perform them on entire arrays all at once!** Instead of looping over a DataFrame, and treating each row independently, like we've done with dot-iterrows, dot-itertuples, and dot-apply, we can perform calculations on the underlying NumPy arrays of our baseball_df DataFrame. Here, we gather the RS and RA columns in our DataFrame as NumPy arrays, and use broadcasting to calculate run differentials all at once!\n",
    "\n",
    "5. Run differentials with arrays\n",
    "\n",
    "When we use NumPy arrays to perform our run differential calculations, we can see that our code becomes much more readable. Here, we can explicitly see how our run differentials are being calculated. After creating our new column and printing the DataFrame, we see that our results are identical to all other approaches. But, just how much more efficient is using NumPy arrays?\n",
    "\n",
    "    > baseball_df['RD'] = baseball_df['RS']- baseball_df['RA']\n",
    "    \n",
    "6. Comparing approaches\n",
    "\n",
    "When we time our NumPy arrays approach, we see that our run differential calculations take microseconds! All other approaches were reported in milliseconds. Our array approach is orders of magnitude faster than all previous approaches!"
   ]
  },
  {
   "cell_type": "markdown",
   "metadata": {},
   "source": [
    "### Exercise\n",
    "#### Replacing .iloc with underlying arrays\n",
    "Now that you have a better grasp on a DataFrame's internals let's update one of your previous analyses to leverage a DataFrame's underlying arrays. You'll revisit the win percentage calculations you performed row by row with the .iloc method:"
   ]
  },
  {
   "cell_type": "code",
   "execution_count": null,
   "metadata": {},
   "outputs": [],
   "source": [
    "def calc_win_perc(wins, games_played):\n",
    "    win_perc = wins / games_played\n",
    "    return np.round(win_perc,2)\n",
    "\n",
    "win_percs_list = []\n",
    "\n",
    "for i in range(len(baseball_df)):\n",
    "    row = baseball_df.iloc[i]\n",
    "\n",
    "    wins = row['W']\n",
    "    games_played = row['G']\n",
    "\n",
    "    win_perc = calc_win_perc(wins, games_played)\n",
    "\n",
    "    win_percs_list.append(win_perc)\n",
    "\n",
    "baseball_df['WP'] = win_percs_list"
   ]
  },
  {
   "cell_type": "markdown",
   "metadata": {},
   "source": [
    "Let's update this analysis to use arrays instead of the .iloc method. A DataFrame (baseball_df) has been loaded into your session."
   ]
  },
  {
   "cell_type": "markdown",
   "metadata": {},
   "source": []
  },
  {
   "cell_type": "code",
   "execution_count": null,
   "metadata": {},
   "outputs": [],
   "source": [
    "# Use the W array and G array to calculate win percentages\n",
    "win_percs_np = calc_win_perc(baseball_df['W'].values, baseball_df['G'].values)\n",
    "\n",
    "# Append a new column to baseball_df that stores all win percentages\n",
    "baseball_df['WP'] = win_percs_np\n",
    "\n",
    "print(baseball_df.head())"
   ]
  },
  {
   "cell_type": "markdown",
   "metadata": {},
   "source": [
    "#### Bringing it all together: Predict win percentage\n",
    "A pandas DataFrame (baseball_df) has been loaded into your session. For convenience, a dictionary describing each column within baseball_df has been printed into your console. You can reference these descriptions throughout the exercise.\n",
    "\n",
    "You'd like to attempt to predict a team's win percentage for a given season by using the team's total runs scored in a season ('RS') and total runs allowed in a season ('RA') with the following function:"
   ]
  },
  {
   "cell_type": "code",
   "execution_count": null,
   "metadata": {},
   "outputs": [],
   "source": [
    "def predict_win_perc(RS, RA):\n",
    "    prediction = RS ** 2 / (RS ** 2 + RA ** 2)\n",
    "    return np.round(prediction, 2)"
   ]
  },
  {
   "cell_type": "markdown",
   "metadata": {},
   "source": [
    "Let's compare the approaches you've learned to calculate a predicted win percentage for each season (or row) in your DataFrame."
   ]
  },
  {
   "cell_type": "code",
   "execution_count": null,
   "metadata": {},
   "outputs": [],
   "source": [
    "win_perc_preds_loop = []\n",
    "\n",
    "# Use a loop and .itertuples() to collect each row's predicted win percentage\n",
    "for row in baseball_df.itertuples():\n",
    "    runs_scored = row.RS\n",
    "    runs_allowed = row.RA\n",
    "    win_perc_pred = predict_win_perc(runs_scored, runs_allowed)\n",
    "    win_perc_preds_loop.append(win_perc_pred)\n",
    "\n",
    "# Apply predict_win_perc to each row of the DataFrame\n",
    "win_perc_preds_apply = baseball_df.apply(lambda row: predict_win_perc(row['RS'], row['RA']), axis=1)\n",
    "\n",
    "# Calculate the win percentage predictions using NumPy arrays\n",
    "win_perc_preds_np = predict_win_perc(baseball_df['RS'].values, baseball_df['RA'].values)\n",
    "baseball_df['WP_preds'] = win_perc_preds_np\n",
    "print(baseball_df.head())"
   ]
  },
  {
   "cell_type": "markdown",
   "metadata": {},
   "source": [
    "That's a home run! You practiced using three different approaches to iterate over a pandas DataFrame and perform calculations. Did you notice that the .itertuples() approach beat the .apply() approach? Even though both these implementations can be useful, you should default to using a DataFrame's underlying arrays to perform calculations."
   ]
  },
  {
   "cell_type": "markdown",
   "metadata": {},
   "source": []
  }
 ],
 "metadata": {
  "language_info": {
   "name": "python"
  }
 },
 "nbformat": 4,
 "nbformat_minor": 2
}
