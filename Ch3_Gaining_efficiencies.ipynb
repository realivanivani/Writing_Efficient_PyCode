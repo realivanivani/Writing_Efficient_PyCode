{
 "cells": [
  {
   "cell_type": "markdown",
   "id": "cd3d96a4",
   "metadata": {},
   "source": [
    "### Efficiently combining, counting, and iterating\n"
   ]
  },
  {
   "cell_type": "markdown",
   "id": "58d94888",
   "metadata": {},
   "source": [
    "1. Efficiently combining, counting, and iterating\n",
    "\n",
    "In this lesson, we'll cover combining, counting, and iterating over objects efficiently. Let's begin by exploring a dataset from the popular Nintendo video game Pokémon.\n",
    "\n",
    "2. Pokémon Overview\n",
    "\n",
    "The Pokémon game centers around players called trainers that try to collect fictional animals called Pokémon.\n",
    "These Pokémon animals roam the fictional universe where the game takes place. When a trainer encounters a Pokémon, they try to capture that Pokémon to add to their collection.\n",
    "If a trainer successfully captures a Pokémon, it is stored in a tool called a Pokédex.\n",
    "\n",
    "3. Pokémon Description\n",
    "\n",
    "Each Pokémon comes with its own set of metadata.\n",
    "This metadata contains a name for each Pokémon. It also has the generation of each Pokémon specifying what version of the game the Pokémon appears in. Here, Squirtle, a Pokémon from generation one, is shown.\n",
    "The metadata also includes the Pokémon's Type and whether or not it belongs to a special category called Legendary.\n",
    "Each Pokémon has a set of statistics that are numerical values for certain categories like Health Points (called HP), Attack, and others. We'll use a dataset that contains pieces of this metadata for the remainder of the chapter.\n",
    "\n",
    "4. Combining objects\n",
    "\n",
    "Suppose we have two lists: one of Pokémon names and another of each Pokémon's Health Points. We want to combine these lists so that each Pokémon is stored next to its Health Points. We can iterate over the names list using enumerate and grab each Pokémon's corresponding Health Points using the index variable.\n",
    "\n",
    "    > names = p'Bulbasaur', 'Charmander', 'Squirtle']\n",
    "    \n",
    "    > hps = [45, 39, 44]\n",
    "    \n",
    "5. Combining objects with zip\n",
    "\n",
    "But Python's built-in function zip provides a more elegant solution. The name \"zip\" describes how this function combines objects like a zipper on a jacket (making two separate things become one). zip returns a zip object that must be unpacked into a list and printed to see the contents. Each item is a tuple of elements from the original lists.\n",
    "\n",
    "    > combined_zip = zip(names,hps)\n",
    "    \n",
    "    > combined_zip_list = [*combined_zip]\n",
    "\n",
    "    > print(combined_zip_list)\n",
    "\n",
    "        >> [('Bulbasaur', 45), ('Charmander', 39), ('Squirtle', 44)]\n",
    "    \n",
    "6. The collections module\n",
    "\n",
    "Python comes with a number of efficient built-in modules. The collections module contains specialized datatypes that can be used as alternatives to standard dictionaries, lists, sets, and tuples.\n",
    "A few notable specialized datatypes are listed here. Let's dig deeper into the Counter object.\n",
    "\n",
    "7. Counting with loop\n",
    "\n",
    "Our Pokémon dataset describes 720 characters. Here is a list of each Pokémon's corresponding type. We'd like to create a dictionary where each key is a Pokémon type, and each value is the count of characters that belong to that type. Using a standard dictionary approach, we have to instantiate an empty output dictionary. Then, we iterate over the poke_types list and check whether or not each poke_type exists within the type_counts dictionary. If the poke_type is not in the dictionary, we create a new key and initialize its count value as one. If the poke_type is already in the dictionary, we update the count by one.\n",
    "\n",
    "    > poke_types = ['Grass', 'Dark', 'Fire', 'Fire', ...]\n",
    "\n",
    "8. collections.Counter()\n",
    "\n",
    "Using Counter from the collections module is a more efficient approach. Just import Counter and provide the object to be counted. No need for a loop! Counter returns a Counter dictionary of key-value pairs. When printed, it's ordered by highest to lowest counts. If comparing runtime times, we'd see that using Counter takes half the time as the standard dictionary approach!\n",
    "\n",
    "    > from collections import Counter\n",
    "    \n",
    "    > type_counts = Counter(poke_types)\n",
    "    \n",
    "9. The itertools module\n",
    "\n",
    "Another built-in module, itertools, contains functional tools for working with iterators. A subset of these tools is listed here.\n",
    "We'll focus on one piece of this module: the combinatoric generators. These generators efficiently yield Cartesian products, permutations, and combinations of objects. Let's explore an example.\n",
    "\n",
    "10. Combinations with loop\n",
    "\n",
    "Suppose we want to gather all combination pairs of Pokémon types possible. We can do this with a nested for loop that iterates over the poke_types list twice. Notice that a conditional statement is used to skip pairs having the same type twice. For example, if x is 'Bug' and y is 'Bug', we want to skip this pair. Since we're interested in combinations (where order doesn't matter), another statement is used to ensure either order of the pair doesn't already exist within the combos list before appending it. For example, the pair ('Bug', 'Fire') is the same as the pair ('Fire', 'Bug'). We want one of these pairs, not both.\n",
    "\n",
    "    > poke_types = ['Bug', 'Fire', 'Ghost', 'Grass, 'Water']\n",
    "    \n",
    "    > combos = []\n",
    "\n",
    "11. itertools.combinations()\n",
    "\n",
    "The combinations generator from itertools provides a more efficient solution. First, we import combinations and then create a combinations object by providing the poke_types list and the length of combinations we desire. combinations returns a combinations object, which we unpack into a list and print to see the result. If comparing runtimes, we'd see using combinations is significantly faster than the nested loop.\n",
    "\n",
    "    > from itertools import combinations\n",
    "    \n",
    "    > combos_obj = combinations(poke_types, 2)\n",
    "     \n",
    "    > combos = [*combos_obj]\n",
    "    \n",
    "    > print(combos)\n",
    "    \n",
    "    >> [('Bug', 'Fire'), ('Bug', 'Ghost'), ('Bug', 'Grass'), ('Bug', 'Water'), ('Fire', 'Ghost'), ('Fire', 'Grass'), ('Fire', 'Water'), ('Ghost', 'Grass'), ('Ghost', 'Water'), ('Grass', 'Water')]\n",
    "    \n",
    "Let's practice"
   ]
  },
  {
   "cell_type": "code",
   "execution_count": 4,
   "id": "883cd3a0",
   "metadata": {},
   "outputs": [
    {
     "name": "stdout",
     "output_type": "stream",
     "text": [
      "[('Bulbasaur', 45), ('Charmander', 39), ('Squirtle', 44)]\n"
     ]
    }
   ],
   "source": [
    "names = ['Bulbasaur', 'Charmander', 'Squirtle']\n",
    "hps = [45, 39, 44]\n",
    "combined_zip = zip(names,hps)\n",
    "combined_zip_list = [*combined_zip]\n",
    "print(combined_zip_list)"
   ]
  },
  {
   "cell_type": "code",
   "execution_count": 7,
   "id": "cb522fa7",
   "metadata": {},
   "outputs": [
    {
     "name": "stdout",
     "output_type": "stream",
     "text": [
      "[('Bug', 'Fire'), ('Bug', 'Ghost'), ('Bug', 'Grass'), ('Bug', 'Water'), ('Fire', 'Ghost'), ('Fire', 'Grass'), ('Fire', 'Water'), ('Ghost', 'Grass'), ('Ghost', 'Water'), ('Grass', 'Water')]\n"
     ]
    }
   ],
   "source": [
    "from itertools import combinations\n",
    "poke_types = ['Bug', 'Fire', 'Ghost', 'Grass', 'Water']\n",
    "combos_obj = combinations(poke_types, 2)\n",
    "combos = [*combos_obj]\n",
    "print(combos)"
   ]
  },
  {
   "cell_type": "markdown",
   "id": "0c5dd3e8",
   "metadata": {},
   "source": [
    "### Exercise\n",
    "\n",
    "#### Combining Pokémon names and types\n",
    "Three lists have been loaded into your session from a dataset that contains 720 Pokémon:\n",
    "\n",
    "The names list contains the names of each Pokémon.\n",
    "The primary_types list contains the corresponding primary type of each Pokémon.\n",
    "The secondary_types list contains the corresponding secondary type of each Pokémon (nan if the Pokémon has only one type).\n",
    "We want to combine each Pokémon's name and types together so that you easily see a description of each Pokémon. Practice using zip() to accomplish this task."
   ]
  },
  {
   "cell_type": "code",
   "execution_count": 18,
   "id": "dd0f9ce1",
   "metadata": {},
   "outputs": [],
   "source": [
    "import numpy as np\n",
    "names = [\n",
    " 'Accelgor',\n",
    " 'Aerodactyl',\n",
    " 'Aggron',\n",
    " 'Aipom',\n",
    " 'Alakazam',\n",
    " 'Alomomola',\n",
    " 'Altaria',\n",
    " 'Amaura',\n",
    " 'Ambipom',\n",
    " 'Amoonguss']\n",
    "primary_types = ['Grass',\n",
    " 'Psychic',\n",
    " 'Dark',\n",
    " 'Bug',\n",
    " 'Rock',\n",
    " 'Steel',\n",
    " 'Normal',\n",
    " 'Psychic',\n",
    " 'Water',\n",
    " 'Dragon']\n",
    "secondary_types = ['Ice', np.nan, np.nan, np.nan, 'Flying', 'Rock', np.nan, np.nan, np.nan, 'Flying']"
   ]
  },
  {
   "cell_type": "code",
   "execution_count": 13,
   "id": "6c9879ee",
   "metadata": {},
   "outputs": [
    {
     "name": "stdout",
     "output_type": "stream",
     "text": [
      "('Accelgor', 'Grass')\n",
      "('Aerodactyl', 'Psychic')\n",
      "('Aggron', 'Dark')\n",
      "('Aipom', 'Bug')\n",
      "('Alakazam', 'Rock')\n"
     ]
    }
   ],
   "source": [
    "# Combine names and primary_types\n",
    "names_type1 = [*zip(names, primary_types)]\n",
    "\n",
    "print(*names_type1[:5], sep='\\n')"
   ]
  },
  {
   "cell_type": "code",
   "execution_count": 19,
   "id": "54353c9a",
   "metadata": {},
   "outputs": [
    {
     "name": "stdout",
     "output_type": "stream",
     "text": [
      "('Accelgor', 'Grass', 'Ice')\n",
      "('Aerodactyl', 'Psychic', nan)\n",
      "('Aggron', 'Dark', nan)\n",
      "('Aipom', 'Bug', nan)\n",
      "('Alakazam', 'Rock', 'Flying')\n"
     ]
    }
   ],
   "source": [
    "# Combine all three lists together\n",
    "names_types = [*zip(names, primary_types, secondary_types)]\n",
    "\n",
    "print(*names_types[:5], sep='\\n')"
   ]
  },
  {
   "cell_type": "code",
   "execution_count": 17,
   "id": "85185cda",
   "metadata": {},
   "outputs": [
    {
     "name": "stdout",
     "output_type": "stream",
     "text": [
      "('Accelgor', 'Grass')\n",
      "('Aerodactyl', 'Psychic')\n",
      "('Aggron', 'Dark')\n"
     ]
    }
   ],
   "source": [
    "# Combine five items from names and three items from primary_types\n",
    "differing_lengths = [*zip(names[:5], primary_types[:3])]\n",
    "\n",
    "print(*differing_lengths, sep='\\n')"
   ]
  },
  {
   "cell_type": "markdown",
   "id": "4b0bdd88",
   "metadata": {},
   "source": [
    "#### Counting Pokémon from a sample\n",
    "A sample of 500 Pokémon has been generated, and three lists from this sample have been loaded into your session:\n",
    "\n",
    "The names list contains the names of each Pokémon in the sample.\n",
    "The primary_types list containing the corresponding primary type of each Pokémon in the sample.\n",
    "The generations list contains the corresponding generation of each Pokémon in the sample.\n",
    "You want to quickly gather a few counts from these lists to better understand the sample that was generated. Use Counter from the collections module to explore what types of Pokémon are in your sample, what generations they come from, and how many Pokémon have a name that starts with a specific letter.\n",
    "\n",
    "Counter has already been imported into your session for convenience."
   ]
  },
  {
   "cell_type": "code",
   "execution_count": null,
   "id": "88e286e2",
   "metadata": {},
   "outputs": [],
   "source": [
    "from collections import Counter\n",
    "# Collect the count of primary types\n",
    "type_count = Counter(primary_types)\n",
    "print(type_count, '\\n')\n",
    "\n",
    "# Collect the count of generations\n",
    "gen_count = Counter(generations)\n",
    "print(gen_count, '\\n')\n",
    "\n",
    "# Use list comprehension to get each Pokémon's starting letter\n",
    "starting_letters = [name[0] for name in names]\n",
    "\n",
    "# Collect the count of Pokémon for each starting_letter\n",
    "starting_letters_count = Counter(starting_letters)\n",
    "print(starting_letters_count)"
   ]
  },
  {
   "cell_type": "markdown",
   "id": "291294ac",
   "metadata": {},
   "source": [
    "#### Combinations of Pokémon\n",
    "Ash, a Pokémon trainer, encounters a group of five Pokémon. These Pokémon have been loaded into a list within your session (called pokemon) and printed into the console for your convenience.\n",
    "\n",
    "Ash would like to try to catch some of these Pokémon, but his Pokédex can only store two Pokémon at a time. Let's use combinations from the itertools module to see what the possible pairs of Pokémon are that Ash could catch."
   ]
  },
  {
   "cell_type": "code",
   "execution_count": null,
   "id": "400fba78",
   "metadata": {},
   "outputs": [],
   "source": [
    "# Import combinations from itertools\n",
    "from itertools import combinations\n",
    "\n",
    "# Create a combination object with pairs of Pokémon\n",
    "combos_obj = combinations(pokemon, 2)\n",
    "print(type(combos_obj), '\\n')\n",
    "\n",
    "# Convert combos_obj to a list by unpacking\n",
    "combos_2 = [*combos_obj]\n",
    "print(combos_2, '\\n')\n",
    "\n",
    "# Collect all possible combinations of 4 Pokémon directly into a list\n",
    "combos_4 = [*combinations(pokemon, 4)]\n",
    "print(combos_4)"
   ]
  },
  {
   "cell_type": "markdown",
   "id": "a091bc3b",
   "metadata": {},
   "source": [
    "### Set theory\n",
    "\n",
    "1. Set theory\n",
    "\n",
    "Often, we'd like to compare two objects to observe similarities and differences between their contents. When doing this type of comparison, it's best to leverage a branch of mathematics called set theory. As you know, Python comes with a built-in set data type. Sets come with some handy methods we can use for comparing. We'll explore each of these methods later on. The main takeaway is that when we'd like to compare objects multiple times and in different ways, we should consider storing our data in sets to leverage these elegant and efficient methods. Another nice feature of Python sets is their ability to quickly check if a value exists within its members. We call this membership testing. In this lesson, we'll show that using the in operator with a set is much faster than using it with a list or tuple. Let's explore a few examples.\n",
    "\n",
    "    * intersection()\n",
    "    * difference()\n",
    "    * symmetric_difference()\n",
    "    * union()\n",
    "    * in\n",
    "    \n",
    "2. Comparing objects with loops\n",
    "\n",
    "Suppose we had two lists of Pokémon: list_a and list_b.\n",
    "We'd like to compare these lists to see which Pokémon appear in both lists.\n",
    "We could use a nested for loop to compare each item in list_a to each item in list_b and collect only those items that appear in both lists. But, iterating over each item in both lists is extremely inefficient.\n",
    "\n",
    "3. Comparing objects with set theory\n",
    "\n",
    "Instead, we should use Python's set data type to compare these lists. By converting each list into a set, we can use the dot-intersection method to collect the Pokémon shared between the two sets. One simple line of code and no need for a loop!\n",
    "\n",
    "    > set_a = set(list_a)\n",
    "    \n",
    "    > set_b = set(list_b)\n",
    "    \n",
    "    > set_a.intersection(set_b)\n",
    "    \n",
    "When comparing runtimes, we see that using sets is a much faster approach.\n",
    "\n",
    "4. Set method: difference\n",
    "\n",
    "We can also use a set method to see Pokémon that exist in one set but not in another. To gather Pokémon that exist in set_a but not in set_b, use:\n",
    "\n",
    "    > set_a.difference(set_b)\n",
    "    \n",
    "If we want the Pokémon in set_b, but not in set_a, we use set_b-dot-difference(set_a).\n",
    "\n",
    "    > set_b.difference(set_a)\n",
    "\n",
    "5. Set method: symmetric difference\n",
    "\n",
    "To collect Pokémon that exist in exactly one of the sets (but not both), we can use a method called the symmetric difference.\n",
    "\n",
    "    > set_a.symmetric_difference(set_b)\n",
    "    \n",
    "6. Set method: union\n",
    "\n",
    "Finally, we can combine these sets using the dot-union method. This collects all of the unique Pokémon that appear in either or both sets.\n",
    "\n",
    "    > set_a.union(set_b)\n",
    "    \n",
    "7. Membership testing with sets\n",
    "\n",
    "Another nice efficiency gain when using sets is the ability to quickly check if a specific item is a member of a set's elements. Consider our collection of 720 Pokémon names stored as a list, tuple, and set.\n",
    "We want to check whether or not the character, Zubat, is in each of these data structures.\n",
    "\n",
    "    > names_set = {'Bla', 'BlaBLa', 'BBBA',...}\n",
    "    \n",
    "When comparing runtimes, it's clear that membership testing with a set is significantly faster than a list or a tuple.\n",
    "\n",
    "    > %timeit 'Bla' in names_set\n",
    "    \n",
    "8. Uniques with sets\n",
    "\n",
    "One final efficiency gain when using sets comes from the definition of set itself. A set is defined as a collection of distinct elements. Thus, we can use a set to collect unique items from an existing object. Let's revisit the primary_types list, which contains the primary types of each Pokémon. If we wanted to collect the unique Pokémon types within this list, we could write a for loop to iterate over the list, and only append the Pokémon types that haven't already been added to the unique_types list.\n",
    "\n",
    "Using a set makes this much easier. All we have to do is convert the primary_types list into a set, and we have our solution: a set of distinct Pokémon types.\n",
    "\n",
    "    > unique_types_set = set(primary_types)\n",
    "    \n",
    "9. Let's practice"
   ]
  },
  {
   "cell_type": "markdown",
   "id": "54ac58e7",
   "metadata": {},
   "source": [
    "### Exercise\n",
    "#### Comparing Pokédexes\n",
    "Two Pokémon trainers, Ash and Misty, would like to compare their individual collections of Pokémon. Let's see what Pokémon they have in common and what Pokémon Ash has that Misty does not.\n",
    "\n",
    "Both Ash and Misty's Pokédex (their collection of Pokémon) have been loaded into your session as lists called ash_pokedex and misty_pokedex. They have been printed into the console for your convenience."
   ]
  },
  {
   "cell_type": "code",
   "execution_count": null,
   "id": "18d54a6d",
   "metadata": {},
   "outputs": [],
   "source": [
    "# Convert both lists to sets\n",
    "ash_set = set(ash_pokedex)\n",
    "misty_set = set(misty_pokedex)\n",
    "\n",
    "# Find the Pokémon that exist in both sets\n",
    "both = ash_set.intersection(misty_set)\n",
    "print(both)\n",
    "\n",
    "# Find the Pokémon that Ash has and Misty does not have\n",
    "ash_only = ash_set.difference(misty_set)\n",
    "print(ash_only)\n",
    "\n",
    "# Find the Pokémon that are in only one set (not both)\n",
    "unique_to_set = ash_set.symmetric_difference(misty_set)\n",
    "print(unique_to_set)"
   ]
  },
  {
   "cell_type": "markdown",
   "id": "9d610ce5",
   "metadata": {},
   "source": [
    "#### Searching for Pokémon\n",
    "Two Pokémon trainers, Ash and Brock, have a collection of ten Pokémon each. Each trainer's Pokédex (their collection of Pokémon) has been loaded into your session as lists called ash_pokedex and brock_pokedex respectively.\n",
    "\n",
    "You'd like to see if certain Pokémon are members of either Ash or Brock's Pokédex.\n",
    "\n",
    "Let's compare using a set versus using a list when performing this membership testing. "
   ]
  },
  {
   "cell_type": "code",
   "execution_count": null,
   "id": "a8de9e6f",
   "metadata": {},
   "outputs": [],
   "source": [
    "# Convert Brock's Pokédex to a set\n",
    "brock_pokedex_set = set(brock_pokedex)\n",
    "print(brock_pokedex_set)\n",
    "\n",
    "# Check if Psyduck is in Ash's list and Brock's set\n",
    "print('Psyduck' in ash_pokedex)\n",
    "print('Psyduck' in brock_pokedex_set)\n",
    "\n",
    "# Check if Machop is in Ash's list and Brock's set\n",
    "print('Machop' in ash_pokedex)\n",
    "print('Machop' in brock_pokedex_set)"
   ]
  },
  {
   "cell_type": "markdown",
   "id": "c73d49a7",
   "metadata": {},
   "source": [
    "Within your IPython console, use %timeit to compare membership testing for 'Psyduck' in ash_pokedex, 'Psyduck' in brock_pokedex_set, 'Machop' in ash_pokedex, and 'Machop' in brock_pokedex_set (a total of four different timings).\n",
    "\n",
    "Don't include the print() function. Only time the commands that you wrote inside the print() function in the previous steps."
   ]
  },
  {
   "cell_type": "code",
   "execution_count": null,
   "id": "21cc55f4",
   "metadata": {},
   "outputs": [],
   "source": [
    "%timeit 'Psyduck' in ash_pokedex\n",
    "%timeit 'Psyduck' in brock_pokedex_set\n",
    "%timeit 'Machop' in ash_pokedex\n",
    "%timeit 'Machop' in brock_pokedex_set"
   ]
  },
  {
   "cell_type": "markdown",
   "id": "cdc7ce7b",
   "metadata": {},
   "source": [
    "Awesome! Membership testing is much faster when you use sets. Did you notice that using a set for member testing is faster than using a list regardless if the item you are checking is in the set? Checking for 'Psyduck' (which was not in Brock's set) is still faster than checking for 'Psyduck' in Ash's list!"
   ]
  },
  {
   "cell_type": "markdown",
   "id": "5b51993e",
   "metadata": {},
   "source": [
    "#### Gathering unique Pokémon\n",
    "A sample of 500 Pokémon has been created with replacement (meaning a Pokémon could be selected more than once and duplicates exist within the sample).\n",
    "\n",
    "Three lists have been loaded into your session:\n",
    "\n",
    "The names list contains the names of each Pokémon in the sample.\n",
    "The primary_types list containing the corresponding primary type of each Pokémon in the sample.\n",
    "The generations list contains the corresponding generation of each Pokémon in the sample.\n",
    "The below function was written to gather unique values from each list:"
   ]
  },
  {
   "cell_type": "code",
   "execution_count": 20,
   "id": "6d085ffe",
   "metadata": {},
   "outputs": [],
   "source": [
    "def find_unique_items(data):\n",
    "    uniques = []\n",
    "\n",
    "    for item in data:\n",
    "        if item not in uniques:\n",
    "            uniques.append(item)\n",
    "\n",
    "    return uniques"
   ]
  },
  {
   "cell_type": "markdown",
   "id": "187ab029",
   "metadata": {},
   "source": [
    "Let's compare the above function to using the set data type for collecting unique items."
   ]
  },
  {
   "cell_type": "code",
   "execution_count": null,
   "id": "0d3f12fa",
   "metadata": {},
   "outputs": [],
   "source": [
    "# Use find_unique_items() to collect unique Pokémon names\n",
    "uniq_names_func = find_unique_items(names)\n",
    "print(len(uniq_names_func))\n",
    "\n",
    "# Convert the names list to a set to collect unique Pokémon names\n",
    "uniq_names_set = set(names)\n",
    "print(len(uniq_names_set))\n",
    "\n",
    "# Check that both unique collections are equivalent\n",
    "print(sorted(uniq_names_func) == sorted(uniq_names_set))"
   ]
  },
  {
   "cell_type": "markdown",
   "id": "38e84b12",
   "metadata": {},
   "source": [
    "Within your IPython console, use %timeit to compare the find_unique_items() function with using a set data type to collect unique Pokémon character names in names.\n",
    "\n",
    "Which membership testing was faster?"
   ]
  },
  {
   "cell_type": "code",
   "execution_count": null,
   "id": "54e5be09",
   "metadata": {},
   "outputs": [],
   "source": [
    "%timeit uniq_names_func = find_unique_items(names)\n",
    "%timeit uniq_names_set = set(names)"
   ]
  },
  {
   "cell_type": "markdown",
   "id": "c30a57b7",
   "metadata": {},
   "source": [
    "> 1.38 ms +- 52 us per loop (mean +- std. dev. of 7 runs, 1000 loops each)\n",
    "\n",
    "> 12.4 us +- 333 ns per loop (mean +- std. dev. of 7 runs, 100000 loops each)"
   ]
  },
  {
   "cell_type": "markdown",
   "id": "6b774617",
   "metadata": {},
   "source": [
    "Nice work! Using a set data type to collect unique values is much faster than using a for loop (like in the find_unique_items() function). Since a set is defined as a collection of distinct elements, it is an efficient way to collect unique items from an existing object. Here you took advantage of a set to find the distinct Pokémon from the sample (eliminating duplicate Pokémon) and saw what unique Pokémon types and generations were included in the sample."
   ]
  },
  {
   "cell_type": "markdown",
   "id": "d7d087bd",
   "metadata": {},
   "source": [
    "### Eliminating loops\n",
    "1. Looping in Python\n",
    "\n",
    "Python comes with a few looping patterns that can be used when we want to iterate over an object's contents. For loops iterate over elements of a sequence piece-by-piece. While loops execute a loop repeatedly as long as some Boolean condition is met. Nested loops use multiple loops inside one another. Although all of these looping patterns are supported by Python, we should be careful when using them. Because most loops are evaluated in a piece-by-piece manner, they are often an inefficient solution.\n",
    "\n",
    "    * for\n",
    "    * while\n",
    "\n",
    "2. Benefits of eliminating loops\n",
    "\n",
    "We should try to avoid looping as much as possible when writing efficient code. Eliminating loops usually results in fewer lines of code that are easier to interpret. Recall in a previous lesson we referred to the Zen of Python - a collection of idioms for writing Pythonic code. One of these idioms was \"flat is better than nested.\" Striving to eliminate loops in our code will help us follow this idiom. In the following examples, we'll see that there are often more efficient approaches that can be used instead of using a loop.\n",
    "\n",
    "    > \"Flat is better than nested\"\n",
    "    \n",
    "3. Eliminating loops with built-ins\n",
    "\n",
    "Suppose we have a list of lists, called poke_stats, that contains statistical values for each Pokémon. Each row corresponds to a Pokémon, and each column corresponds to a Pokémon's specific statistical value. Here, the columns represent a Pokémon's Health Points, Attack, Defense, and Speed.\n",
    "\n",
    "We want to do a simple sum of each of these rows in order to collect the total stats for each Pokémon. If we were to use a loop to calculate row sums, we would have to iterate over each row and append the row's sum to the totals list. We can accomplish the same task, in fewer lines of code, with a list comprehension. Or, we could use the built-in map function that we've discussed previously.\n",
    "\n",
    "> for row in poke_stats:\n",
    "    totals.append(sum(row))\n",
    "\n",
    "> totals_comp = [sum(row) for row in poke_stats]\n",
    "\n",
    "> totals_map = [*map(sum, poke_stats)]\n",
    "\n",
    "Each of these approaches will return the same list, but using a list comprehension or the map function takes one line of code, and has a faster runtime.\n",
    "\n",
    "4. Eliminating loops with built-in modules\n",
    "\n",
    "We've also covered a few built-in modules that can help us eliminate loops. Remember when we collected the different combinations of Pokémon types? Instead of using the nested for loop, we used combinations from the itertools module for a cleaner, more efficient solution.\n",
    "\n",
    "> from itertools import combinations\n",
    "\n",
    "> combos2 = [*combinations(poke_types, 2)]\n",
    "\n",
    "5. Eliminate loops with NumPy\n",
    "\n",
    "Another powerful technique for eliminating loops is to use the NumPy package. Suppose we had the same collection of statistics we used in a previous example but stored in a NumPy array instead of a list of lists.\n",
    "\n",
    "We'd like to collect the average stat value for each Pokémon (or row) in our array. We could use a loop to iterate over the array and collected the row averages. But, NumPy arrays allow us to perform calculations on entire arrays all at once. Here, we use the dot-mean method and specifying an axis equal to 1 to calculate the mean for each row (meaning we calculate an average across the column values). This eliminates the need for a loop and is much more efficient.\n",
    "\n",
    "> avgs_np = poke_stats.mean(axis=1)\n",
    "\n",
    "When comparing runtimes, we see that using the dot-mean method on the entire array and specifying an axis is significantly faster than using a loop.\n",
    "\n",
    "6. Let's practice!"
   ]
  },
  {
   "cell_type": "markdown",
   "id": "c0f7028b",
   "metadata": {},
   "source": [
    "### Exercise\n",
    "#### Gathering Pokémon without a loop\n",
    "A list containing 720 Pokémon has been loaded into your session as poke_names. Another list containing each Pokémon's corresponding generation has been loaded as poke_gens.\n",
    "\n",
    "A for loop has been created to filter the Pokémon that belong to generation one or two, and collect the number of letters in each Pokémon's name:"
   ]
  },
  {
   "cell_type": "code",
   "execution_count": null,
   "id": "4941a15a",
   "metadata": {},
   "outputs": [],
   "source": [
    "gen1_gen2_name_lengths_loop = []\n",
    "\n",
    "for name,gen in zip(poke_names, poke_gens):\n",
    "    if gen < 3:\n",
    "        name_length = len(name)\n",
    "        poke_tuple = (name, name_length)\n",
    "        gen1_gen2_name_lengths_loop.append(poke_tuple)"
   ]
  },
  {
   "cell_type": "code",
   "execution_count": null,
   "id": "513ba051",
   "metadata": {},
   "outputs": [],
   "source": [
    "# Collect Pokémon that belong to generation 1 or generation 2\n",
    "gen1_gen2_pokemon = [name for name,gen in zip(poke_names, poke_gens) if gen < 3]\n",
    "\n",
    "# Create a map object that stores the name lengths\n",
    "name_lengths_map = map(len, gen1_gen2_pokemon)\n",
    "\n",
    "# Combine gen1_gen2_pokemon and name_lengths_map into a list\n",
    "gen1_gen2_name_lengths = [*zip(gen1_gen2_pokemon, name_lengths_map)]\n",
    "\n",
    "print(gen1_gen2_name_lengths_loop[:5])\n",
    "print(gen1_gen2_name_lengths[:5])"
   ]
  },
  {
   "cell_type": "markdown",
   "id": "1c98f6a4",
   "metadata": {},
   "source": [
    "If you're an experienced Pythonista, you may have noticed that you could replace the entire for loop with one list comprehension:\n",
    "> [(name, len(name)) for name,gen in zip(poke_names, poke_gens) if gen < 3]"
   ]
  },
  {
   "cell_type": "markdown",
   "id": "e4eb88e1",
   "metadata": {},
   "source": [
    "#### Pokémon totals and averages without a loop\n",
    "A list of 720 Pokémon has been loaded into your session called names. Each Pokémon's corresponding statistics has been loaded as a NumPy array called stats. Each row of stats corresponds to a Pokémon in names and each column represents an individual Pokémon stat (HP, Attack, Defense, Special Attack, Special Defense, and Speed respectively.)\n",
    "\n",
    "You want to gather each Pokémon's total stat value (i.e., the sum of each row in stats) and each Pokémon's average stat value (i.e., the mean of each row in stats) so that you find the strongest Pokémon.\n",
    "\n",
    "The below for loop was written to collect these values:"
   ]
  },
  {
   "cell_type": "code",
   "execution_count": null,
   "id": "996eb5c8",
   "metadata": {},
   "outputs": [],
   "source": [
    "poke_list = []\n",
    "\n",
    "for pokemon,row in zip(names, stats):\n",
    "    total_stats = np.sum(row)\n",
    "    avg_stats = np.mean(row)\n",
    "    poke_list.append((pokemon, total_stats, avg_stats))"
   ]
  },
  {
   "cell_type": "code",
   "execution_count": null,
   "id": "60f84d21",
   "metadata": {},
   "outputs": [],
   "source": [
    "# Create a total stats array\n",
    "total_stats_np = stats.sum(axis=1)\n",
    "\n",
    "# Create an average stats array\n",
    "avg_stats_np = stats.mean(axis=1)\n",
    "\n",
    "# Combine names, total_stats_np, and avg_stats_np into a list\n",
    "poke_list_np = [*zip(names, total_stats_np, avg_stats_np)]\n",
    "\n",
    "print(poke_list_np == poke_list, '\\n')\n",
    "print(poke_list_np[:3])\n",
    "print(poke_list[:3], '\\n')\n",
    "top_3 = sorted(poke_list_np, key=lambda x: x[1], reverse=True)[:3]\n",
    "print('3 strongest Pokémon:\\n{}'.format(top_3))"
   ]
  },
  {
   "cell_type": "markdown",
   "id": "17f09d88",
   "metadata": {},
   "source": [
    "Great work! You used NumPy's .sum() and .mean() methods with a specific axis to eliminate a for loop. With this approach, you were able to quickly see that 'GroudonPrimal Groudon', 'KyogrePrimal Kyogre', and 'Arceus' were the strongest Pokémon in your list based on total stats.\n",
    "\n",
    "If you were to gather run times, the for loop would have taken _milliseconds_ to execute while the NumPy approach would have taken _microseconds_ to execute. This is quite an improvement!"
   ]
  },
  {
   "cell_type": "markdown",
   "id": "30ad091f",
   "metadata": {},
   "source": [
    "### Writing better loops\n",
    "1. Writing better loops\n",
    "\n",
    "We've discussed how loops can be costly and inefficient. But, sometimes you can't eliminate a loop. In this lesson, we'll explore how to make loops more efficient when looping is unavoidable.\n",
    "\n",
    "2. Lesson caveat\n",
    "\n",
    "Before diving in, some of the loops we'll discuss can be eliminated using techniques covered in previous lessons. For demonstrative purposes, we'll assume the use cases shown here are instances where a loop is unavoidable.\n",
    "\n",
    "3. Writing better loops\n",
    "\n",
    "The best way to make a loop more efficient is to analyze what's being done within the loop. We want to make sure that we aren't doing unnecessary work in each iteration. \n",
    "   * If a calculation is performed for each iteration of a loop, but its value doesn't change with each iteration, it's best to move this calculation outside (or above) the loop. \n",
    "   * If a loop is converting data types with each iteration, it's possible that this conversion can be done outside (or below) the loop using a map function. Anything that can be done once should be moved outside of a loop. \n",
    "\n",
    "Let's explore a few examples.\n",
    "\n",
    "4. Moving calculations above a loop\n",
    "\n",
    "We have a list of Pokémon names and an array of each Pokémon's corresponding attack value. We'd like to print the names of each Pokémon with an attack value greater than the average of all attack values. To do this, we'll use a loop that iterates over each Pokémon and their attack value. For each iteration, the total attack average is calculated by finding the mean value of all attacks. Then, each Pokémon's attack value is evaluated to see if it exceeds the total average. Can you spot the inefficiency? The total_attack_avg variable is being created with each iteration of the loop. But, this calculation doesn't change between iterations since it is an overall average. We only need to calculate this value once.\n",
    "\n",
    "5. Moving calculations above a loop\n",
    "\n",
    "By moving this calculation outside (or above) the loop, we calculate the total attack average only once. We get the same output, but this is a more efficient approach.\n",
    "\n",
    "Comparing runtimes, we see that keeping the total_attack_avg calculation within the loop takes roughly 75 microseconds.\n",
    "Moving the calculation takes about half the time.\n",
    "\n",
    "6. Using holistic conversions\n",
    "\n",
    "Another way to make loops more efficient is to use holistic conversions outside (or below) the loop. \n",
    "\n",
    "We have three lists from our dataset of 720 Pokémon: a list of each Pokémon's name, a list corresponding to whether or not a Pokémon has a legendary status, and a list of each Pokémon's generation. We want to combine these objects so that each name, status, and generation is stored in an individual list. \n",
    "\n",
    "To do this, we'll use a loop that iterates over the output of the zip function. Remember, zip returns a collection of tuples, so we need to convert each tuple into a list since we want to create a list of lists as our output. Now, we append each individual poke_list to our poke_data output variable. By printing the result, we see our desired list of lists. However, converting each tuple to a list within the loop is not very efficient.\n",
    "\n",
    "Instead, we should collect all of our poke_tuples together, and use the map function to convert each tuple to a list. The loop no longer converts tuples to lists with each iteration. Instead, we moved this tuple to list conversion outside (or below) the loop. That way, we convert data types all at once (or holistically) rather than converting in each iteration.\n",
    "\n",
    "> poke_data_tuples = []\n",
    "\n",
    "> for poke_tuple in zip(names, legend_status, generations):\n",
    "    poke_data_tuples.append(poke_tuple)\n",
    "\n",
    "> poke_data = [*map(list, poke_data_tuples)]\n",
    "\n",
    "Runtimes show that converting each tuple to a list outside of the loop is more efficient.\n",
    "\n",
    "11. Time for some practice!"
   ]
  },
  {
   "cell_type": "markdown",
   "id": "f1592ed0",
   "metadata": {},
   "source": [
    "### Exercise\n",
    "#### One-time calculation loop\n",
    "A list of integers that represents each Pokémon's generation has been loaded into your session called generations. You'd like to gather the counts of each generation and determine what percentage each generation accounts for out of the total count of integers.\n",
    "\n",
    "The below loop was written to accomplish this task:"
   ]
  },
  {
   "cell_type": "code",
   "execution_count": null,
   "id": "1e712310",
   "metadata": {},
   "outputs": [],
   "source": [
    "for gen,count in gen_counts.items():\n",
    "    total_count = len(generations)\n",
    "    gen_percent = round(count / total_count * 100, 2)\n",
    "    print(\n",
    "      'generation {}: count = {:3} percentage = {}'\n",
    "      .format(gen, count, gen_percent)\n",
    "    )"
   ]
  },
  {
   "cell_type": "markdown",
   "id": "4d328915",
   "metadata": {},
   "source": [
    "Let's make this loop more efficient by moving a one-time calculation outside the loop."
   ]
  },
  {
   "cell_type": "code",
   "execution_count": null,
   "id": "85790603",
   "metadata": {},
   "outputs": [],
   "source": [
    "# Import Counter\n",
    "from collections import Counter\n",
    "\n",
    "# Collect the count of each generation\n",
    "gen_counts = Counter(generations)\n",
    "\n",
    "# Improve for loop by moving one calculation above the loop\n",
    "total_count = len(generations)\n",
    "\n",
    "for gen,count in gen_counts.items():\n",
    "    gen_percent = round(count / total_count * 100, 2)\n",
    "    print('generation {}: count = {:3} percentage = {}'\n",
    "          .format(gen, count, gen_percent))"
   ]
  },
  {
   "cell_type": "markdown",
   "id": "3de8f8dd",
   "metadata": {},
   "source": [
    "#### Holistic conversion loop\n",
    "A list of all possible Pokémon types has been loaded into your session as pokemon_types. It's been printed in the console for convenience.\n",
    "\n",
    "You'd like to gather all the possible pairs of Pokémon types. You want to store each of these pairs in an individual list with an enumerated index as the first element of each list. This allows you to see the total number of possible pairs and provides an indexed label for each pair.\n",
    "\n",
    "The below loop was written to accomplish this task:"
   ]
  },
  {
   "cell_type": "code",
   "execution_count": null,
   "id": "578ed8be",
   "metadata": {},
   "outputs": [],
   "source": [
    "enumerated_pairs = []\n",
    "\n",
    "for i,pair in enumerate(possible_pairs, 1):\n",
    "    enumerated_pair_tuple = (i,) + pair\n",
    "    enumerated_pair_list = list(enumerated_pair_tuple)\n",
    "    enumerated_pairs.append(enumerated_pair_list)"
   ]
  },
  {
   "cell_type": "markdown",
   "id": "dd6c2982",
   "metadata": {},
   "source": [
    "Let's make this loop more efficient using a holistic conversion."
   ]
  },
  {
   "cell_type": "code",
   "execution_count": null,
   "id": "7df0f22e",
   "metadata": {},
   "outputs": [],
   "source": [
    "from itertools import combinations\n",
    "# Collect all possible pairs using combinations()\n",
    "possible_pairs = [*combinations(pokemon_types, 2)]\n",
    "\n",
    "# Create an empty list called enumerated_tuples\n",
    "enumerated_tuples = []\n",
    "\n",
    "# Append each enumerated_pair_tuple to the empty list above\n",
    "for i,pair in enumerate(possible_pairs, 1):\n",
    "    enumerated_pair_tuple = (i,) + pair\n",
    "    enumerated_tuples.append(enumerated_pair_tuple)\n",
    "\n",
    "# Convert all tuples in enumerated_tuples to a list\n",
    "enumerated_pairs = [*map(list, enumerated_tuples)]\n",
    "print(enumerated_pairs)"
   ]
  },
  {
   "cell_type": "markdown",
   "id": "9aba82c2",
   "metadata": {},
   "source": [
    "### Bringing it all together: Pokémon z-scores\n",
    "A list of 720 Pokémon has been loaded into your session as names. Each Pokémon's corresponding Health Points is stored in a NumPy array called hps. You want to analyze the Health Points using the z-score to see how many standard deviations each Pokémon's HP is from the mean of all HPs.\n",
    "\n",
    "The below code was written to calculate the HP z-score for each Pokémon and gather the Pokémon with the highest HPs based on their z-scores:"
   ]
  },
  {
   "cell_type": "code",
   "execution_count": null,
   "id": "48d448cb",
   "metadata": {},
   "outputs": [],
   "source": [
    "poke_zscores = []\n",
    "\n",
    "for name,hp in zip(names, hps):\n",
    "    hp_avg = hps.mean()\n",
    "    hp_std = hps.std()\n",
    "    z_score = (hp - hp_avg)/hp_std\n",
    "    poke_zscores.append((name, hp, z_score))\n",
    "highest_hp_pokemon = []\n",
    "\n",
    "for name,hp,zscore in poke_zscores:\n",
    "    if zscore > 2:\n",
    "        highest_hp_pokemon.append((name, hp, zscore))"
   ]
  },
  {
   "cell_type": "markdown",
   "id": "eff243f6",
   "metadata": {},
   "source": [
    "Use NumPy to eliminate the for loop used to create the z-scores.\n",
    "Then, combine the names, hps, and z_scores objects together into a list called poke_zscores2."
   ]
  },
  {
   "cell_type": "code",
   "execution_count": null,
   "id": "98e8e0ef",
   "metadata": {},
   "outputs": [],
   "source": [
    "# Calculate the total HP avg and total HP standard deviation\n",
    "hp_avg = hps.mean()\n",
    "hp_std = hps.std()\n",
    "\n",
    "# Use NumPy to eliminate the previous for loop\n",
    "z_scores = (hps - hp_avg)/hp_std\n",
    "\n",
    "# Combine names, hps, and z_scores\n",
    "poke_zscores2 = [*zip(names, hps, z_scores)]\n",
    "print(*poke_zscores2[:3], sep='\\n')"
   ]
  },
  {
   "cell_type": "code",
   "execution_count": null,
   "id": "d92b9b51",
   "metadata": {},
   "outputs": [],
   "source": [
    "# Use list comprehension with the same logic as the highest_hp_pokemon code block\n",
    "highest_hp_pokemon2 = [(names, hps, z_scores) for names,hps,z_scores in poke_zscores2 if z_scores > 2]\n",
    "print(*highest_hp_pokemon2, sep='\\n')"
   ]
  },
  {
   "cell_type": "markdown",
   "id": "50b88768",
   "metadata": {},
   "source": [
    "Use %%timeit (cell magic mode) within your IPython console to compare the runtimes between the original code blocks and the new code you developed using NumPy and list comprehension."
   ]
  },
  {
   "cell_type": "code",
   "execution_count": null,
   "id": "1ac12a77",
   "metadata": {},
   "outputs": [],
   "source": [
    "%timeit highest_hp_pokemon2 = [(names, hps, z_scores) for names,hps,z_scores in poke_zscores2 if z_scores > 2]"
   ]
  },
  {
   "cell_type": "markdown",
   "id": "ed521011",
   "metadata": {},
   "source": [
    "Great job! You're Catching 'Em All (efficiencies that is). You eliminated two loops using NumPy broadcasting and list comprehension. Did you notice how much faster the approach you developed was compared to the original loops? What a great improvement!\n",
    "\n",
    "Remember the techniques you've learned throughout this chapter as you continue writing Python code outside this course. Keep in mind the built-in functions and modules you covered to eliminate loops and remember to check your unavoidable loops for things that can be moved outside."
   ]
  }
 ],
 "metadata": {
  "kernelspec": {
   "display_name": "Python 3 (ipykernel)",
   "language": "python",
   "name": "python3"
  },
  "language_info": {
   "codemirror_mode": {
    "name": "ipython",
    "version": 3
   },
   "file_extension": ".py",
   "mimetype": "text/x-python",
   "name": "python",
   "nbconvert_exporter": "python",
   "pygments_lexer": "ipython3",
   "version": "3.11.5"
  }
 },
 "nbformat": 4,
 "nbformat_minor": 5
}
