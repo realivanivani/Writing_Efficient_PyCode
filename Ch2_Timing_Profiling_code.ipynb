{
 "cells": [
  {
   "cell_type": "markdown",
   "metadata": {},
   "source": [
    "### Using Runtime\n",
    "\n",
    "1. Why should we time our code?\n",
    "\n",
    "Comparing runtimes between two code bases, that effectively do the same thing, allows us to pick the code with the optimal performance. By gathering and analyzing runtimes, we can be sure to implement the code that is fastest and thus more efficient.\n",
    "\n",
    "2. How can we time our code?\n",
    "\n",
    "To compare runtimes, we need to be able to compute the runtime for a line or multiple lines of code. IPython comes with some handy built-in magic commands we can use to time our code. Magic commands are enhancements that have been added on top of the normal Python syntax. These commands are prefixed with the percentage sign. If you aren't familiar with magic commands, don't worry, take a moment to review the documentation using the provided link. We won't be using all the magic commands listed in the docs, but it's helpful to know what magic commands are at your disposal.\n",
    "\n",
    "    > %lsmagic\n",
    "\n",
    "3. Using %timeit\n",
    "\n",
    "Consider this example: we want to inspect the runtime for selecting 1,000 random numbers between zero and one using NumPy's random-dot-rand function. Using %timeit just requires adding the magic command before the line of code we want to analyze. That's it! One simple command to gather runtimes. Magic indeed!\n",
    "\n",
    "    > import numpy as np\n",
    "    \n",
    "    > %timeit rand_runs = np.random.rand(1000)\n",
    "\n",
    "4. %timeit output\n",
    "\n",
    "One advantage to using %timeit is the fact that it provides an average of timing statistics.\n",
    "Notice that the output provides a mean, and standard deviation, of time.\n",
    "\n",
    "    >> 6.82 µs ± 20.2 ns per loop (mean ± std. dev. of 7 runs, 100,000 loops each)\n",
    "    \n",
    "We also see that multiple runs and loops were generated. %timeit runs through the provided code multiple times to estimate the code's execution time. This provides a more accurate representation of the actual runtime rather than relying on just one iteration to calculate the runtime. The mean and standard deviation displayed in the output is a summary of the runtime considering each of the multiple runs.\n",
    "\n",
    "5. Specifying number of runs/loops\n",
    "\n",
    "The number of runs represents how many iterations you'd like to use to estimate the runtime. The number of loops represents how many times you'd like the code to be executed per run. We can specify the number of runs, using the -r flag, and the number of loops, using the -n flag. Here, we use -r2, to set the number of runs to two and -n10, to set the number of loops to ten. In this example, %timeit would execute our random number selection 20 times in order to estimate runtime (2 runs each with 10 executions).\n",
    "\n",
    "    > %timeit -n20 -r2 rand_runs = np.random.rand(1000)\n",
    "\n",
    "6. Using %timeit in line magic mode\n",
    "\n",
    "Another cool feature of %timeit is its ability to run on single or multiple lines of code. When using %timeit in line magic mode, or with a single line of code, one percentage sign is used.\n",
    "\n",
    "    > %timeit nums = [x for x in range(10)]\n",
    "\n",
    "Similarly, we can run %timeit in cell magic mode (or provide multiple lines of code) by using two percentage signs.\n",
    "\n",
    "    > %%timeit\n",
    "    > nums = []\n",
    "    > for x in range(10):\n",
    "    >   nums.append(x)\n",
    "\n",
    "7. Saving output\n",
    "\n",
    "We can save the output of %timeit into a variable using the -o flag.\n",
    "\n",
    "    > times = %timeit -o rand_nums = np.random.rand(1000)\n",
    "    \n",
    "This allows us to dig deeper into the output and see things like the time for each run, the best time for all runs, and the worst time for all runs. Let's try using %timeit with some of Python's built-in data structures.\n",
    "\n",
    "    > times.timings\n",
    "\n",
    "    > times.best\n",
    "\n",
    "    > times.worst\n",
    "\n",
    "8. Comparing times\n",
    "\n",
    "In a previous chapter, we mentioned some of Python's built-in data structures called lists, dictionaries, and tuples. Python allows us to create these data structures using either a formal name, like list, dict, and tuple spelled out, or a shorthand called literal syntax.\n",
    "\n",
    "If we wanted to compare the runtime between creating a dictionary using the formal name and creating a dictionary using the literal syntax, we could save the output of the individual %timeit commands as shown here. Then, we could compare the two outputs.\n",
    "\n",
    "For simplicity, let's look at just the output of both the %timeit commands to see which was faster. Here, we can see that using the literal syntax to create a dictionary is faster than using the formal name without writing code to do the analysis for us.\n",
    "\n",
    "    > %timeit formal_dict = dict()\n",
    "\n",
    "    > %timeit literal_dict = {}\n",
    "\n",
    "9. Off to the races!\n",
    "\n",
    "Now that we've learned how to use %timeit, we can compare different coding approaches to select the most efficient one. It's off to the races!"
   ]
  },
  {
   "cell_type": "code",
   "execution_count": null,
   "metadata": {},
   "outputs": [],
   "source": [
    "import numpy as np\n",
    "%timeit rand_runs = np.random.rand(1000)"
   ]
  },
  {
   "cell_type": "markdown",
   "metadata": {},
   "source": [
    "### Exercise\n",
    "#### Using %timeit: your turn!\n",
    "You'd like to create a list of integers from 0 to 50 using the range() function. However, you are unsure whether using list comprehension or unpacking the range object into a list is faster. Let's use %timeit to find the best implementation.\n",
    "\n",
    "For your convenience, a reference table of time orders of magnitude is provided below (faster at the top).\n",
    "\n",
    "symbol\tname\tunit (s)\n",
    "ns\tnanosecond\t10-9\n",
    "\n",
    "µs (us)\tmicrosecond\t10-6\n",
    "\n",
    "ms\tmillisecond\t10-3\n",
    "\n",
    "s\tsecond\t100"
   ]
  },
  {
   "cell_type": "code",
   "execution_count": null,
   "metadata": {},
   "outputs": [],
   "source": [
    "# Create a list of integers (0-50) using list comprehension\n",
    "%timeit nums_list_comp = [num for num in range(51)]\n",
    "print(nums_list_comp)\n",
    "\n",
    "# Create a list of integers (0-50) by unpacking range\n",
    "%timeit nums_unpack = [*range(51)]\n",
    "print(nums_unpack)"
   ]
  },
  {
   "cell_type": "markdown",
   "metadata": {},
   "source": []
  },
  {
   "cell_type": "markdown",
   "metadata": {},
   "source": [
    "#### Using %timeit: specifying number of runs and loops\n",
    "A list of 480 superheroes has been loaded into your session (called heroes). You'd like to analyze the runtime for converting this heroes list into a set. Instead of relying on the default settings for %timeit, you'd like to only use 5 runs and 25 loops per each run.\n",
    "\n",
    "What is the correct syntax when using %timeit and only using 5 runs with 25 loops per each run?"
   ]
  },
  {
   "cell_type": "code",
   "execution_count": null,
   "metadata": {},
   "outputs": [],
   "source": [
    "%timeit -r5 -n25 set(heroes)"
   ]
  },
  {
   "cell_type": "markdown",
   "metadata": {},
   "source": []
  },
  {
   "cell_type": "markdown",
   "metadata": {},
   "source": [
    "#### Using %timeit: formal name or literal syntax\n",
    "Python allows you to create data structures using either a formal name or a literal syntax. In this exercise, you'll explore how using a literal syntax for creating a data structure can speed up runtimes.\n",
    "\n",
    "data structure  formal name\tliteral syntax:\n",
    "\n",
    "    > list\t        list()\t    []\n",
    "\n",
    "    > dictionary\t    dict()\t    {}\n",
    "\n",
    "    >tuple\t        tuple()\t    ()"
   ]
  },
  {
   "cell_type": "code",
   "execution_count": null,
   "metadata": {},
   "outputs": [],
   "source": [
    "# Create a list using the formal name\n",
    "%timeit formal_list = list()\n",
    "print(formal_list)\n",
    "\n",
    "# Create a list using the literal syntax\n",
    "%timeit literal_list = []\n",
    "print(literal_list)\n",
    "\n",
    "# Print out the type of formal_list\n",
    "print(type(formal_list))\n",
    "\n",
    "# Print out the type of literal_list\n",
    "print(type(literal_list))"
   ]
  },
  {
   "cell_type": "markdown",
   "metadata": {},
   "source": [
    "#### Using cell magic mode (%%timeit)\n",
    "From here on out, you'll be working with a superheroes dataset. For this exercise, a list of each hero's weight in kilograms (called wts) is loaded into your session. You'd like to convert these weights into pounds.\n",
    "\n",
    "You could accomplish this using the below for loop:\n",
    "\n",
    "    hero_wts_lbs = []\n",
    "        for wt in wts:\n",
    "    hero_wts_lbs.append(wt * 2.20462)\n",
    "\n",
    "Or you could use a numpy array to accomplish this task:\n",
    "\n",
    "    wts_np = np.array(wts)\n",
    "    hero_wts_lbs_np = wts_np * 2.20462\n",
    "\n",
    "Use %%timeit in your IPython console to compare runtimes between these two approaches. Make sure to press SHIFT+ENTER after the magic command to add a new line before writing the code you wish to time. After you've finished coding, answer the following question:\n",
    "\n",
    "Which of the above techniques is faster?"
   ]
  },
  {
   "cell_type": "code",
   "execution_count": null,
   "metadata": {},
   "outputs": [],
   "source": [
    "%%timeit\n",
    "hero_wts_lbs = []\n",
    "for wt in wts:\n",
    "    hero_wts_lbs.append(wt * 2.20462)"
   ]
  },
  {
   "cell_type": "code",
   "execution_count": null,
   "metadata": {},
   "outputs": [],
   "source": [
    "%%timeit\n",
    "wts_np = np.array(wts)\n",
    "hero_wts_lbs_np = wts_np * 2.20462"
   ]
  },
  {
   "cell_type": "markdown",
   "metadata": {},
   "source": []
  }
 ],
 "metadata": {
  "language_info": {
   "name": "python"
  }
 },
 "nbformat": 4,
 "nbformat_minor": 2
}
